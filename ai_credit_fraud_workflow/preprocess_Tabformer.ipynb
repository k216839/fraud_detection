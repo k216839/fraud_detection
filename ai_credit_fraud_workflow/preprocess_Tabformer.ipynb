{
 "cells": [
  {
   "cell_type": "markdown",
   "id": "9c6a5b09-a601-47c6-989f-5efb42d7f4f8",
   "metadata": {
    "id": "9c6a5b09-a601-47c6-989f-5efb42d7f4f8"
   },
   "source": [
    "Notebook này trình bày các bước làm sạch và chuẩn bị dữ liệu giao dịch thẻ tín dụng để tiếp tục đào tạo GNN với GraphSAGE.\n",
    "\n",
    "Mục tiêu:\n",
    " * Làm sạch dữ liệu\n",
    "   * Convert tên các trường dữ liệu thành một từ duy nhất\n",
    "     * tên trường không được sử dụng trong GNN, nó giúp truy cập các trường dễ dàng hơn trong quá trình làm sạch  \n",
    "   * Encode các trường categorical\n",
    "     * sử dụng one-hot encoding cho các trường có ít hơn 8 categories\n",
    "     * sử dụng binary encoding cho các trường có nhiều hơn 8 categories\n",
    "   * Tạo một chỉ mục nút liên tục trên người dùng, thương gia và giao dịch\n",
    "     * việc có ID nút bắt đầu từ số không và sau đó liền kề là rất quan trọng để tạo dữ liệu theo định dạng Hàng thưa nén (Compressed Sparse Row - CSR) mà không lãng phí bộ nhớ\n",
    " * Produce:\n",
    "   * Với XGBoost:\n",
    "     * Training   - dữ liệu trước 2018\n",
    "     * Validation - dữ liệu trong 2018\n",
    "     * Test.      - dữ liệu sau 2018\n",
    "   * Với GNN\n",
    "     * Dữ liệu huấn luyện\n",
    "       * Danh sách các cạnh\n",
    "       * Dữ liệu đặc trưng\n",
    "   * Test - dữ liệu sau 2018\n",
    "\n",
    "\n",
    "\n",
    "Graph formation\n",
    "\n",
    "Với việc chúng ta chỉ giới hạn ở dữ liệu trong tệp giao dịch, mô hình lý tưởng sẽ là có một đồ thị hai phía của Người dùng đến Nhà cung cấp, trong đó các cạnh biểu diễn giao dịch thẻ tín dụng và sau đó thực hiện Link Classification trên các cạnh để xác định gian lận. Thật không may, phiên bản cuGraph hiện tại không hỗ trợ GNN Link Prediction. May mắn thay, xem các giao dịch dưới dạng các nút và sau đó thực hiện node classification bằng GraphSAGE GNN phổ biến. Đồ thị được tạo ra sẽ là đồ thị ba phía, trong đó mỗi giao dịch được biểu diễn dưới dạng một nút.\n",
    "\n",
    "Các đặc trưng:\n",
    "\n",
    "Đối với phương pháp XGBoost, không cần tạo các đặc trưng trống cho Merchants. Tuy nhiên, đối với xử lý GNN, mọi nút cần có cùng một tập dữ liệu đặc trưng. Do đó, chúng ta cần tạo các đặc trưng trống cho các nút User và Merchant."
   ]
  },
  {
   "cell_type": "markdown",
   "id": "X83mFWjx4fR9",
   "metadata": {
    "id": "X83mFWjx4fR9"
   },
   "source": [
    "# Tải dữ liệu"
   ]
  },
  {
   "cell_type": "code",
   "execution_count": 1,
   "id": "njHAsCgG4icR",
   "metadata": {
    "id": "njHAsCgG4icR"
   },
   "outputs": [
    {
     "name": "stdout",
     "output_type": "stream",
     "text": [
      "Downloading ZIP dataset...\n"
     ]
    },
    {
     "name": "stderr",
     "output_type": "stream",
     "text": [
      "Downloading...\n",
      "From (original): https://drive.google.com/uc?id=16IziiOifwF5n9ZkqjYp7E34NxnE-NcwR\n",
      "From (redirected): https://drive.google.com/uc?id=16IziiOifwF5n9ZkqjYp7E34NxnE-NcwR&confirm=t&uuid=15929a63-691b-4374-848d-fa4835472c12\n",
      "To: /home/hkk1907/VNPT/fraud_detection/fraud_detection/ai_credit_fraud_workflow/card-transaction.zip\n",
      "100%|██████████| 276M/276M [00:27<00:00, 9.94MB/s] \n"
     ]
    }
   ],
   "source": [
    "import os\n",
    "import gdown\n",
    "\n",
    "file_id = '16IziiOifwF5n9ZkqjYp7E34NxnE-NcwR' \n",
    "url = f'https://drive.google.com/uc?id={file_id}'\n",
    "output = 'card-transaction.zip'\n",
    "\n",
    "if not os.path.exists(output):\n",
    "    print(\"Downloading ZIP dataset...\")\n",
    "    gdown.download(url, output, quiet=False)\n",
    "else:\n",
    "    print(f\"ZIP file already exists at '{output}', skipping download.\")"
   ]
  },
  {
   "cell_type": "code",
   "execution_count": 2,
   "id": "l89xcb-N6F8L",
   "metadata": {
    "colab": {
     "base_uri": "https://localhost:8080/"
    },
    "executionInfo": {
     "elapsed": 22166,
     "status": "ok",
     "timestamp": 1747292583263,
     "user": {
      "displayName": "Khánh Hoàng Kim",
      "userId": "06897714357605364137"
     },
     "user_tz": -420
    },
    "id": "l89xcb-N6F8L",
    "outputId": "f79cfcd9-ba86-4ca1-cd74-c1b75fb5fd0a"
   },
   "outputs": [],
   "source": [
    "import zipfile\n",
    "zip_file = 'card-transaction.zip'\n",
    "extract_folder = 'data/TabFormer/raw/'\n",
    "os.makedirs(extract_folder, exist_ok=True)\n",
    "with zipfile.ZipFile(zip_file, 'r') as zip_ref:\n",
    "    zip_ref.extractall(extract_folder)"
   ]
  },
  {
   "cell_type": "markdown",
   "id": "795bdece",
   "metadata": {
    "id": "795bdece"
   },
   "source": [
    "# Cài đặt các thư viện\n"
   ]
  },
  {
   "cell_type": "markdown",
   "id": "xkRq79ndvHcH",
   "metadata": {
    "id": "xkRq79ndvHcH"
   },
   "source": [
    "Ta dùng cuDF và thực hiện hầu hết tiền xử lý dữ liệu trên GPU"
   ]
  },
  {
   "cell_type": "code",
   "execution_count": 3,
   "id": "PQpjg_1fQPJK",
   "metadata": {
    "colab": {
     "base_uri": "https://localhost:8080/"
    },
    "executionInfo": {
     "elapsed": 3355,
     "status": "ok",
     "timestamp": 1747292586620,
     "user": {
      "displayName": "Khánh Hoàng Kim",
      "userId": "06897714357605364137"
     },
     "user_tz": -420
    },
    "id": "PQpjg_1fQPJK",
    "outputId": "506e94b9-bbed-47bd-fd5b-09252b2fd5da"
   },
   "outputs": [
    {
     "name": "stdout",
     "output_type": "stream",
     "text": [
      "\n",
      "\u001b[1m[\u001b[0m\u001b[34;49mnotice\u001b[0m\u001b[1;39;49m]\u001b[0m\u001b[39;49m A new release of pip is available: \u001b[0m\u001b[31;49m24.0\u001b[0m\u001b[39;49m -> \u001b[0m\u001b[32;49m25.1.1\u001b[0m\n",
      "\u001b[1m[\u001b[0m\u001b[34;49mnotice\u001b[0m\u001b[1;39;49m]\u001b[0m\u001b[39;49m To update, run: \u001b[0m\u001b[32;49mpip install --upgrade pip\u001b[0m\n"
     ]
    }
   ],
   "source": [
    "!pip install category-encoders==2.6.4 -q"
   ]
  },
  {
   "cell_type": "code",
   "execution_count": 5,
   "id": "4b6b2bc6-a206-42c5-aae9-590672b3a202",
   "metadata": {
    "id": "4b6b2bc6-a206-42c5-aae9-590672b3a202"
   },
   "outputs": [
    {
     "name": "stderr",
     "output_type": "stream",
     "text": [
      "/home/hkk1907/miniconda3/envs/ai_credit_fraud_workflow/lib/python3.11/site-packages/cudf/utils/_ptxcompiler.py:64: UserWarning: Error getting driver and runtime versions:\n",
      "\n",
      "stdout:\n",
      "\n",
      "\n",
      "\n",
      "stderr:\n",
      "\n",
      "Traceback (most recent call last):\n",
      "  File \"<string>\", line 4, in <module>\n",
      "  File \"/home/hkk1907/miniconda3/envs/ai_credit_fraud_workflow/lib/python3.11/site-packages/numba_cuda/numba/cuda/cudadrv/driver.py\", line 295, in __getattr__\n",
      "    raise CudaSupportError(\"Error at driver init: \\n%s:\" %\n",
      "numba.cuda.cudadrv.error.CudaSupportError: Error at driver init: \n",
      "\n",
      "CUDA driver library cannot be found.\n",
      "If you are sure that a CUDA driver is installed,\n",
      "try setting environment variable NUMBA_CUDA_DRIVER\n",
      "with the file path of the CUDA driver shared library.\n",
      ":\n",
      "\n",
      "\n",
      "Not patching Numba\n",
      "  warnings.warn(msg, UserWarning)\n"
     ]
    },
    {
     "ename": "CUDARuntimeError",
     "evalue": "cudaErrorInsufficientDriver: CUDA driver version is insufficient for CUDA runtime version",
     "output_type": "error",
     "traceback": [
      "\u001b[31m---------------------------------------------------------------------------\u001b[39m",
      "\u001b[31mCUDARuntimeError\u001b[39m                          Traceback (most recent call last)",
      "\u001b[36mCell\u001b[39m\u001b[36m \u001b[39m\u001b[32mIn[5]\u001b[39m\u001b[32m, line 5\u001b[39m\n\u001b[32m      2\u001b[39m \u001b[38;5;28;01mimport\u001b[39;00m\u001b[38;5;250m \u001b[39m\u001b[34;01mos\u001b[39;00m\n\u001b[32m      3\u001b[39m \u001b[38;5;28;01mimport\u001b[39;00m\u001b[38;5;250m \u001b[39m\u001b[34;01mpickle\u001b[39;00m\n\u001b[32m----> \u001b[39m\u001b[32m5\u001b[39m \u001b[38;5;28;01mimport\u001b[39;00m\u001b[38;5;250m \u001b[39m\u001b[34;01mcudf\u001b[39;00m\n\u001b[32m      6\u001b[39m \u001b[38;5;28;01mimport\u001b[39;00m\u001b[38;5;250m \u001b[39m\u001b[34;01mnumpy\u001b[39;00m\u001b[38;5;250m \u001b[39m\u001b[38;5;28;01mas\u001b[39;00m\u001b[38;5;250m \u001b[39m\u001b[34;01mnp\u001b[39;00m\n\u001b[32m      7\u001b[39m \u001b[38;5;28;01mimport\u001b[39;00m\u001b[38;5;250m \u001b[39m\u001b[34;01mpandas\u001b[39;00m\u001b[38;5;250m \u001b[39m\u001b[38;5;28;01mas\u001b[39;00m\u001b[38;5;250m \u001b[39m\u001b[34;01mpd\u001b[39;00m\n",
      "\u001b[36mFile \u001b[39m\u001b[32m~/miniconda3/envs/ai_credit_fraud_workflow/lib/python3.11/site-packages/cudf/__init__.py:20\u001b[39m\n\u001b[32m     17\u001b[39m \u001b[38;5;28;01mfrom\u001b[39;00m\u001b[38;5;250m \u001b[39m\u001b[34;01mcudf\u001b[39;00m\u001b[34;01m.\u001b[39;00m\u001b[34;01mutils\u001b[39;00m\u001b[34;01m.\u001b[39;00m\u001b[34;01mgpu_utils\u001b[39;00m\u001b[38;5;250m \u001b[39m\u001b[38;5;28;01mimport\u001b[39;00m validate_setup\n\u001b[32m     19\u001b[39m _setup_numba()\n\u001b[32m---> \u001b[39m\u001b[32m20\u001b[39m \u001b[43mvalidate_setup\u001b[49m\u001b[43m(\u001b[49m\u001b[43m)\u001b[49m\n\u001b[32m     22\u001b[39m \u001b[38;5;28;01mimport\u001b[39;00m\u001b[38;5;250m \u001b[39m\u001b[34;01mcupy\u001b[39;00m\n\u001b[32m     23\u001b[39m \u001b[38;5;28;01mfrom\u001b[39;00m\u001b[38;5;250m \u001b[39m\u001b[34;01mnumba\u001b[39;00m\u001b[38;5;250m \u001b[39m\u001b[38;5;28;01mimport\u001b[39;00m config \u001b[38;5;28;01mas\u001b[39;00m numba_config, cuda\n",
      "\u001b[36mFile \u001b[39m\u001b[32m~/miniconda3/envs/ai_credit_fraud_workflow/lib/python3.11/site-packages/cudf/utils/gpu_utils.py:55\u001b[39m, in \u001b[36mvalidate_setup\u001b[39m\u001b[34m()\u001b[39m\n\u001b[32m     53\u001b[39m \u001b[38;5;28;01mexcept\u001b[39;00m CUDARuntimeError \u001b[38;5;28;01mas\u001b[39;00m e:\n\u001b[32m     54\u001b[39m     \u001b[38;5;28;01mif\u001b[39;00m e.status \u001b[38;5;129;01min\u001b[39;00m notify_caller_errors:\n\u001b[32m---> \u001b[39m\u001b[32m55\u001b[39m         \u001b[38;5;28;01mraise\u001b[39;00m e\n\u001b[32m     56\u001b[39m     \u001b[38;5;66;03m# If there is no GPU detected, set `gpus_count` to -1\u001b[39;00m\n\u001b[32m     57\u001b[39m     gpus_count = -\u001b[32m1\u001b[39m\n",
      "\u001b[36mFile \u001b[39m\u001b[32m~/miniconda3/envs/ai_credit_fraud_workflow/lib/python3.11/site-packages/cudf/utils/gpu_utils.py:52\u001b[39m, in \u001b[36mvalidate_setup\u001b[39m\u001b[34m()\u001b[39m\n\u001b[32m     31\u001b[39m notify_caller_errors = {\n\u001b[32m     32\u001b[39m     cudaError_t.cudaErrorInitializationError,\n\u001b[32m     33\u001b[39m     cudaError_t.cudaErrorInsufficientDriver,\n\u001b[32m   (...)\u001b[39m\u001b[32m     48\u001b[39m     cudaError_t.cudaErrorApiFailureBase,\n\u001b[32m     49\u001b[39m }\n\u001b[32m     51\u001b[39m \u001b[38;5;28;01mtry\u001b[39;00m:\n\u001b[32m---> \u001b[39m\u001b[32m52\u001b[39m     gpus_count = \u001b[43mgetDeviceCount\u001b[49m\u001b[43m(\u001b[49m\u001b[43m)\u001b[49m\n\u001b[32m     53\u001b[39m \u001b[38;5;28;01mexcept\u001b[39;00m CUDARuntimeError \u001b[38;5;28;01mas\u001b[39;00m e:\n\u001b[32m     54\u001b[39m     \u001b[38;5;28;01mif\u001b[39;00m e.status \u001b[38;5;129;01min\u001b[39;00m notify_caller_errors:\n",
      "\u001b[36mFile \u001b[39m\u001b[32m~/miniconda3/envs/ai_credit_fraud_workflow/lib/python3.11/site-packages/rmm/_cuda/gpu.py:102\u001b[39m, in \u001b[36mgetDeviceCount\u001b[39m\u001b[34m()\u001b[39m\n\u001b[32m    100\u001b[39m status, count = runtime.cudaGetDeviceCount()\n\u001b[32m    101\u001b[39m \u001b[38;5;28;01mif\u001b[39;00m status != runtime.cudaError_t.cudaSuccess:\n\u001b[32m--> \u001b[39m\u001b[32m102\u001b[39m     \u001b[38;5;28;01mraise\u001b[39;00m CUDARuntimeError(status)\n\u001b[32m    103\u001b[39m \u001b[38;5;28;01mreturn\u001b[39;00m count\n",
      "\u001b[31mCUDARuntimeError\u001b[39m: cudaErrorInsufficientDriver: CUDA driver version is insufficient for CUDA runtime version"
     ]
    }
   ],
   "source": [
    "import json\n",
    "import os\n",
    "import pickle\n",
    "\n",
    "import cudf\n",
    "import numpy as np\n",
    "import pandas as pd\n",
    "import scipy.stats as ss\n",
    "from category_encoders import BinaryEncoder\n",
    "from scipy.stats import pointbiserialr\n",
    "from sklearn.compose import ColumnTransformer\n",
    "from sklearn.impute import SimpleImputer\n",
    "from sklearn.pipeline import Pipeline\n",
    "from sklearn.preprocessing import OneHotEncoder, RobustScaler, StandardScaler"
   ]
  },
  {
   "cell_type": "markdown",
   "id": "81db641b",
   "metadata": {
    "id": "81db641b"
   },
   "source": [
    "# Định nghĩa một số đối số"
   ]
  },
  {
   "cell_type": "code",
   "execution_count": null,
   "id": "016964ce",
   "metadata": {
    "id": "016964ce"
   },
   "outputs": [],
   "source": [
    "# Đồ thị là vô hướng\n",
    "make_undirected = True\n",
    "\n",
    "# Có nên phân bổ các tính năng trên các nút Người dùng và Thương gia không?\n",
    "spread_features = False\n",
    "\n",
    "# Chỉ định có lấy mẫu không đầy đủ (undersampling) dữ liệu lớp đa số (non-fraud) hay không.\n",
    "under_sample = True\n",
    "\n",
    "# Tỷ lệ giữa số giao dịch gian lận và tổng số giao dịch trong tập dữ liệu sau khi under-sampling.\n",
    "fraud_ratio = 0.1"
   ]
  },
  {
   "cell_type": "code",
   "execution_count": null,
   "id": "656e6aee-038a-4b58-9296-993e06defb35",
   "metadata": {
    "id": "656e6aee-038a-4b58-9296-993e06defb35"
   },
   "outputs": [],
   "source": [
    "tabformer_base_path = './data/TabFormer'\n",
    "tabformer_raw_file_path = os.path.join(tabformer_base_path, 'raw', 'card_transaction.v1.csv')\n",
    "tabformer_xgb = os.path.join(tabformer_base_path, 'xgb')\n",
    "tabformer_gnn = os.path.join(tabformer_base_path, 'gnn')\n",
    "\n",
    "if not os.path.exists(tabformer_xgb):\n",
    "    os.makedirs(tabformer_xgb)\n",
    "if not os.path.exists(tabformer_gnn):\n",
    "    os.makedirs(tabformer_gnn)"
   ]
  },
  {
   "cell_type": "markdown",
   "id": "96fe43fe",
   "metadata": {
    "id": "96fe43fe"
   },
   "source": [
    "# Tải và hiểu dữ liệu"
   ]
  },
  {
   "cell_type": "code",
   "execution_count": null,
   "id": "fb41e6ea-1e9f-4f14-99a4-d6d3df092a37",
   "metadata": {
    "id": "fb41e6ea-1e9f-4f14-99a4-d6d3df092a37"
   },
   "outputs": [],
   "source": [
    "data = cudf.read_csv(tabformer_raw_file_path)"
   ]
  },
  {
   "cell_type": "code",
   "execution_count": null,
   "id": "3d9a9ab4-4240-4824-997b-8bfdb640381c",
   "metadata": {
    "colab": {
     "base_uri": "https://localhost:8080/",
     "height": 206
    },
    "executionInfo": {
     "elapsed": 1041,
     "status": "ok",
     "timestamp": 1747292624932,
     "user": {
      "displayName": "Khánh Hoàng Kim",
      "userId": "06897714357605364137"
     },
     "user_tz": -420
    },
    "id": "3d9a9ab4-4240-4824-997b-8bfdb640381c",
    "outputId": "7f2a3622-a458-46a0-f7f0-4eb041361cbb"
   },
   "outputs": [
    {
     "data": {
      "text/html": [
       "<div>\n",
       "<style scoped>\n",
       "    .dataframe tbody tr th:only-of-type {\n",
       "        vertical-align: middle;\n",
       "    }\n",
       "\n",
       "    .dataframe tbody tr th {\n",
       "        vertical-align: top;\n",
       "    }\n",
       "\n",
       "    .dataframe thead th {\n",
       "        text-align: right;\n",
       "    }\n",
       "</style>\n",
       "<table border=\"1\" class=\"dataframe\">\n",
       "  <thead>\n",
       "    <tr style=\"text-align: right;\">\n",
       "      <th></th>\n",
       "      <th>User</th>\n",
       "      <th>Card</th>\n",
       "      <th>Year</th>\n",
       "      <th>Month</th>\n",
       "      <th>Day</th>\n",
       "      <th>Time</th>\n",
       "      <th>Amount</th>\n",
       "      <th>Use Chip</th>\n",
       "      <th>Merchant Name</th>\n",
       "      <th>Merchant City</th>\n",
       "      <th>Merchant State</th>\n",
       "      <th>Zip</th>\n",
       "      <th>MCC</th>\n",
       "      <th>Errors?</th>\n",
       "      <th>Is Fraud?</th>\n",
       "    </tr>\n",
       "  </thead>\n",
       "  <tbody>\n",
       "    <tr>\n",
       "      <th>0</th>\n",
       "      <td>0</td>\n",
       "      <td>0</td>\n",
       "      <td>2002</td>\n",
       "      <td>9</td>\n",
       "      <td>1</td>\n",
       "      <td>06:21</td>\n",
       "      <td>$134.09</td>\n",
       "      <td>Swipe Transaction</td>\n",
       "      <td>3527213246127876953</td>\n",
       "      <td>La Verne</td>\n",
       "      <td>CA</td>\n",
       "      <td>91750.0</td>\n",
       "      <td>5300</td>\n",
       "      <td>&lt;NA&gt;</td>\n",
       "      <td>No</td>\n",
       "    </tr>\n",
       "    <tr>\n",
       "      <th>1</th>\n",
       "      <td>0</td>\n",
       "      <td>0</td>\n",
       "      <td>2002</td>\n",
       "      <td>9</td>\n",
       "      <td>1</td>\n",
       "      <td>06:42</td>\n",
       "      <td>$38.48</td>\n",
       "      <td>Swipe Transaction</td>\n",
       "      <td>-727612092139916043</td>\n",
       "      <td>Monterey Park</td>\n",
       "      <td>CA</td>\n",
       "      <td>91754.0</td>\n",
       "      <td>5411</td>\n",
       "      <td>&lt;NA&gt;</td>\n",
       "      <td>No</td>\n",
       "    </tr>\n",
       "    <tr>\n",
       "      <th>2</th>\n",
       "      <td>0</td>\n",
       "      <td>0</td>\n",
       "      <td>2002</td>\n",
       "      <td>9</td>\n",
       "      <td>2</td>\n",
       "      <td>06:22</td>\n",
       "      <td>$120.34</td>\n",
       "      <td>Swipe Transaction</td>\n",
       "      <td>-727612092139916043</td>\n",
       "      <td>Monterey Park</td>\n",
       "      <td>CA</td>\n",
       "      <td>91754.0</td>\n",
       "      <td>5411</td>\n",
       "      <td>&lt;NA&gt;</td>\n",
       "      <td>No</td>\n",
       "    </tr>\n",
       "    <tr>\n",
       "      <th>3</th>\n",
       "      <td>0</td>\n",
       "      <td>0</td>\n",
       "      <td>2002</td>\n",
       "      <td>9</td>\n",
       "      <td>2</td>\n",
       "      <td>17:45</td>\n",
       "      <td>$128.95</td>\n",
       "      <td>Swipe Transaction</td>\n",
       "      <td>3414527459579106770</td>\n",
       "      <td>Monterey Park</td>\n",
       "      <td>CA</td>\n",
       "      <td>91754.0</td>\n",
       "      <td>5651</td>\n",
       "      <td>&lt;NA&gt;</td>\n",
       "      <td>No</td>\n",
       "    </tr>\n",
       "    <tr>\n",
       "      <th>4</th>\n",
       "      <td>0</td>\n",
       "      <td>0</td>\n",
       "      <td>2002</td>\n",
       "      <td>9</td>\n",
       "      <td>3</td>\n",
       "      <td>06:23</td>\n",
       "      <td>$104.71</td>\n",
       "      <td>Swipe Transaction</td>\n",
       "      <td>5817218446178736267</td>\n",
       "      <td>La Verne</td>\n",
       "      <td>CA</td>\n",
       "      <td>91750.0</td>\n",
       "      <td>5912</td>\n",
       "      <td>&lt;NA&gt;</td>\n",
       "      <td>No</td>\n",
       "    </tr>\n",
       "  </tbody>\n",
       "</table>\n",
       "</div>"
      ],
      "text/plain": [
       "   User  Card  Year  Month  Day   Time   Amount           Use Chip  \\\n",
       "0     0     0  2002      9    1  06:21  $134.09  Swipe Transaction   \n",
       "1     0     0  2002      9    1  06:42   $38.48  Swipe Transaction   \n",
       "2     0     0  2002      9    2  06:22  $120.34  Swipe Transaction   \n",
       "3     0     0  2002      9    2  17:45  $128.95  Swipe Transaction   \n",
       "4     0     0  2002      9    3  06:23  $104.71  Swipe Transaction   \n",
       "\n",
       "         Merchant Name  Merchant City Merchant State      Zip   MCC Errors?  \\\n",
       "0  3527213246127876953       La Verne             CA  91750.0  5300    <NA>   \n",
       "1  -727612092139916043  Monterey Park             CA  91754.0  5411    <NA>   \n",
       "2  -727612092139916043  Monterey Park             CA  91754.0  5411    <NA>   \n",
       "3  3414527459579106770  Monterey Park             CA  91754.0  5651    <NA>   \n",
       "4  5817218446178736267       La Verne             CA  91750.0  5912    <NA>   \n",
       "\n",
       "  Is Fraud?  \n",
       "0        No  \n",
       "1        No  \n",
       "2        No  \n",
       "3        No  \n",
       "4        No  "
      ]
     },
     "execution_count": 9,
     "metadata": {},
     "output_type": "execute_result"
    }
   ],
   "source": [
    "data.head(5)"
   ]
  },
  {
   "cell_type": "code",
   "execution_count": null,
   "id": "d66495f5",
   "metadata": {
    "colab": {
     "base_uri": "https://localhost:8080/"
    },
    "executionInfo": {
     "elapsed": 7,
     "status": "ok",
     "timestamp": 1747292624940,
     "user": {
      "displayName": "Khánh Hoàng Kim",
      "userId": "06897714357605364137"
     },
     "user_tz": -420
    },
    "id": "d66495f5",
    "outputId": "36956498-7033-41c9-f6a8-ff22aef152a6"
   },
   "outputs": [
    {
     "data": {
      "text/plain": [
       "Index(['User', 'Card', 'Year', 'Month', 'Day', 'Time', 'Amount', 'Use Chip',\n",
       "       'Merchant Name', 'Merchant City', 'Merchant State', 'Zip', 'MCC',\n",
       "       'Errors?', 'Is Fraud?'],\n",
       "      dtype='object')"
      ]
     },
     "execution_count": 10,
     "metadata": {},
     "output_type": "execute_result"
    }
   ],
   "source": [
    "data.columns"
   ]
  },
  {
   "cell_type": "markdown",
   "id": "73172495",
   "metadata": {
    "id": "73172495"
   },
   "source": [
    "* Các trường categorical có thứ tự - 'Year', 'Month', 'Day'\n",
    "* Các trường categorical không có thứ tự - 'User', 'Card', 'Merchant Name', 'Merchant City', 'Merchant State', 'Zip', 'MCC', 'Errors?'\n",
    "* Nhãn - 'Is Fraud?'"
   ]
  },
  {
   "cell_type": "code",
   "execution_count": null,
   "id": "c1f58262",
   "metadata": {
    "colab": {
     "base_uri": "https://localhost:8080/"
    },
    "executionInfo": {
     "elapsed": 135,
     "status": "ok",
     "timestamp": 1747292625076,
     "user": {
      "displayName": "Khánh Hoàng Kim",
      "userId": "06897714357605364137"
     },
     "user_tz": -420
    },
    "id": "c1f58262",
    "outputId": "f222a385-9496-44f4-ff05-955eedf13b17"
   },
   "outputs": [
    {
     "data": {
      "text/plain": [
       "User                     0\n",
       "Card                     0\n",
       "Year                     0\n",
       "Month                    0\n",
       "Day                      0\n",
       "Time                     0\n",
       "Amount                   0\n",
       "Use Chip                 0\n",
       "Merchant Name            0\n",
       "Merchant City            0\n",
       "Merchant State     2720821\n",
       "Zip                2878135\n",
       "MCC                      0\n",
       "Errors?           23998469\n",
       "Is Fraud?                0\n",
       "dtype: int64"
      ]
     },
     "execution_count": 11,
     "metadata": {},
     "output_type": "execute_result"
    }
   ],
   "source": [
    "data.isnull().sum()"
   ]
  },
  {
   "cell_type": "code",
   "execution_count": null,
   "id": "c6f20eb9",
   "metadata": {
    "colab": {
     "base_uri": "https://localhost:8080/"
    },
    "executionInfo": {
     "elapsed": 375,
     "status": "ok",
     "timestamp": 1747292625451,
     "user": {
      "displayName": "Khánh Hoàng Kim",
      "userId": "06897714357605364137"
     },
     "user_tz": -420
    },
    "id": "c6f20eb9",
    "outputId": "0ed4bc90-46a0-49b2-b6c9-0bf57cf7bf6e"
   },
   "outputs": [
    {
     "data": {
      "text/plain": [
       "User               0.000000\n",
       "Card               0.000000\n",
       "Year               0.000000\n",
       "Month              0.000000\n",
       "Day                0.000000\n",
       "Time               0.000000\n",
       "Amount             0.000000\n",
       "Use Chip           0.000000\n",
       "Merchant Name      0.000000\n",
       "Merchant City      0.000000\n",
       "Merchant State    11.156896\n",
       "Zip               11.801972\n",
       "MCC                0.000000\n",
       "Errors?           98.407215\n",
       "Is Fraud?          0.000000\n",
       "dtype: float64"
      ]
     },
     "execution_count": 12,
     "metadata": {},
     "output_type": "execute_result"
    }
   ],
   "source": [
    "100*data.isnull().sum()/len(data)"
   ]
  },
  {
   "cell_type": "markdown",
   "id": "805d62ba",
   "metadata": {
    "id": "805d62ba"
   },
   "source": [
    "* Đối với nhiều giao dịch, 'Merchant State' và 'Zip' bị thiếu, nhưng thật tốt khi tất cả các giao dịch đều có 'Merchant City' được chỉ định.\n",
    "* Hơn 98% các giao dịch bị thiếu dữ liệu cho các trường 'Errors?'."
   ]
  },
  {
   "cell_type": "markdown",
   "id": "33487e74",
   "metadata": {
    "id": "33487e74"
   },
   "source": [
    "# Lưu một vài giao dịch trước khi thực hiện biến đổi (để cho inference)"
   ]
  },
  {
   "cell_type": "code",
   "execution_count": null,
   "id": "e8c188c1",
   "metadata": {
    "id": "e8c188c1"
   },
   "outputs": [],
   "source": [
    "out_path = os.path.join(tabformer_xgb, 'example_transactions.csv')\n",
    "data.tail(10).to_pandas().to_csv(out_path, header=True, index=False)"
   ]
  },
  {
   "cell_type": "markdown",
   "id": "57513227",
   "metadata": {
    "id": "57513227"
   },
   "source": [
    "# Đổi tên các cột thành 1 từ duy nhất và sử dụng biến cho tên cột để truy cập dễ dàng hơn"
   ]
  },
  {
   "cell_type": "code",
   "execution_count": null,
   "id": "d35f7230",
   "metadata": {
    "id": "d35f7230"
   },
   "outputs": [],
   "source": [
    "COL_USER = 'User'\n",
    "COL_CARD = 'Card'\n",
    "COL_AMOUNT = 'Amount'\n",
    "COL_MCC = 'MCC'\n",
    "COL_TIME = 'Time'\n",
    "COL_DAY = 'Day'\n",
    "COL_MONTH = 'Month'\n",
    "COL_YEAR = 'Year'\n",
    "\n",
    "COL_MERCHANT = 'Merchant'\n",
    "COL_STATE ='State'\n",
    "COL_CITY ='City'\n",
    "COL_ZIP = 'Zip'\n",
    "COL_ERROR = 'Errors'\n",
    "COL_CHIP = 'Chip'\n",
    "COL_FRAUD = 'Fraud'"
   ]
  },
  {
   "cell_type": "code",
   "execution_count": null,
   "id": "90aa3fb5",
   "metadata": {
    "id": "90aa3fb5"
   },
   "outputs": [],
   "source": [
    "_ = data.rename(columns={\n",
    "    \"Merchant Name\": COL_MERCHANT,\n",
    "    \"Merchant State\": COL_STATE,\n",
    "    \"Merchant City\": COL_CITY,\n",
    "    \"Errors?\": COL_ERROR,\n",
    "    \"Use Chip\": COL_CHIP,\n",
    "    \"Is Fraud?\": COL_FRAUD\n",
    "    },\n",
    "    inplace=True\n",
    ")"
   ]
  },
  {
   "cell_type": "code",
   "execution_count": null,
   "id": "gekTdn58MIiM",
   "metadata": {
    "colab": {
     "base_uri": "https://localhost:8080/",
     "height": 206
    },
    "executionInfo": {
     "elapsed": 873,
     "status": "ok",
     "timestamp": 1747292626765,
     "user": {
      "displayName": "Khánh Hoàng Kim",
      "userId": "06897714357605364137"
     },
     "user_tz": -420
    },
    "id": "gekTdn58MIiM",
    "outputId": "304744cd-8221-463e-8d23-c48ebd600ccc"
   },
   "outputs": [
    {
     "data": {
      "text/html": [
       "<div>\n",
       "<style scoped>\n",
       "    .dataframe tbody tr th:only-of-type {\n",
       "        vertical-align: middle;\n",
       "    }\n",
       "\n",
       "    .dataframe tbody tr th {\n",
       "        vertical-align: top;\n",
       "    }\n",
       "\n",
       "    .dataframe thead th {\n",
       "        text-align: right;\n",
       "    }\n",
       "</style>\n",
       "<table border=\"1\" class=\"dataframe\">\n",
       "  <thead>\n",
       "    <tr style=\"text-align: right;\">\n",
       "      <th></th>\n",
       "      <th>User</th>\n",
       "      <th>Card</th>\n",
       "      <th>Year</th>\n",
       "      <th>Month</th>\n",
       "      <th>Day</th>\n",
       "      <th>Time</th>\n",
       "      <th>Amount</th>\n",
       "      <th>Chip</th>\n",
       "      <th>Merchant</th>\n",
       "      <th>City</th>\n",
       "      <th>State</th>\n",
       "      <th>Zip</th>\n",
       "      <th>MCC</th>\n",
       "      <th>Errors</th>\n",
       "      <th>Fraud</th>\n",
       "    </tr>\n",
       "  </thead>\n",
       "  <tbody>\n",
       "    <tr>\n",
       "      <th>0</th>\n",
       "      <td>0</td>\n",
       "      <td>0</td>\n",
       "      <td>2002</td>\n",
       "      <td>9</td>\n",
       "      <td>1</td>\n",
       "      <td>06:21</td>\n",
       "      <td>$134.09</td>\n",
       "      <td>Swipe Transaction</td>\n",
       "      <td>3527213246127876953</td>\n",
       "      <td>La Verne</td>\n",
       "      <td>CA</td>\n",
       "      <td>91750.0</td>\n",
       "      <td>5300</td>\n",
       "      <td>&lt;NA&gt;</td>\n",
       "      <td>No</td>\n",
       "    </tr>\n",
       "    <tr>\n",
       "      <th>1</th>\n",
       "      <td>0</td>\n",
       "      <td>0</td>\n",
       "      <td>2002</td>\n",
       "      <td>9</td>\n",
       "      <td>1</td>\n",
       "      <td>06:42</td>\n",
       "      <td>$38.48</td>\n",
       "      <td>Swipe Transaction</td>\n",
       "      <td>-727612092139916043</td>\n",
       "      <td>Monterey Park</td>\n",
       "      <td>CA</td>\n",
       "      <td>91754.0</td>\n",
       "      <td>5411</td>\n",
       "      <td>&lt;NA&gt;</td>\n",
       "      <td>No</td>\n",
       "    </tr>\n",
       "    <tr>\n",
       "      <th>2</th>\n",
       "      <td>0</td>\n",
       "      <td>0</td>\n",
       "      <td>2002</td>\n",
       "      <td>9</td>\n",
       "      <td>2</td>\n",
       "      <td>06:22</td>\n",
       "      <td>$120.34</td>\n",
       "      <td>Swipe Transaction</td>\n",
       "      <td>-727612092139916043</td>\n",
       "      <td>Monterey Park</td>\n",
       "      <td>CA</td>\n",
       "      <td>91754.0</td>\n",
       "      <td>5411</td>\n",
       "      <td>&lt;NA&gt;</td>\n",
       "      <td>No</td>\n",
       "    </tr>\n",
       "    <tr>\n",
       "      <th>3</th>\n",
       "      <td>0</td>\n",
       "      <td>0</td>\n",
       "      <td>2002</td>\n",
       "      <td>9</td>\n",
       "      <td>2</td>\n",
       "      <td>17:45</td>\n",
       "      <td>$128.95</td>\n",
       "      <td>Swipe Transaction</td>\n",
       "      <td>3414527459579106770</td>\n",
       "      <td>Monterey Park</td>\n",
       "      <td>CA</td>\n",
       "      <td>91754.0</td>\n",
       "      <td>5651</td>\n",
       "      <td>&lt;NA&gt;</td>\n",
       "      <td>No</td>\n",
       "    </tr>\n",
       "    <tr>\n",
       "      <th>4</th>\n",
       "      <td>0</td>\n",
       "      <td>0</td>\n",
       "      <td>2002</td>\n",
       "      <td>9</td>\n",
       "      <td>3</td>\n",
       "      <td>06:23</td>\n",
       "      <td>$104.71</td>\n",
       "      <td>Swipe Transaction</td>\n",
       "      <td>5817218446178736267</td>\n",
       "      <td>La Verne</td>\n",
       "      <td>CA</td>\n",
       "      <td>91750.0</td>\n",
       "      <td>5912</td>\n",
       "      <td>&lt;NA&gt;</td>\n",
       "      <td>No</td>\n",
       "    </tr>\n",
       "  </tbody>\n",
       "</table>\n",
       "</div>"
      ],
      "text/plain": [
       "   User  Card  Year  Month  Day   Time   Amount               Chip  \\\n",
       "0     0     0  2002      9    1  06:21  $134.09  Swipe Transaction   \n",
       "1     0     0  2002      9    1  06:42   $38.48  Swipe Transaction   \n",
       "2     0     0  2002      9    2  06:22  $120.34  Swipe Transaction   \n",
       "3     0     0  2002      9    2  17:45  $128.95  Swipe Transaction   \n",
       "4     0     0  2002      9    3  06:23  $104.71  Swipe Transaction   \n",
       "\n",
       "              Merchant           City State      Zip   MCC Errors Fraud  \n",
       "0  3527213246127876953       La Verne    CA  91750.0  5300   <NA>    No  \n",
       "1  -727612092139916043  Monterey Park    CA  91754.0  5411   <NA>    No  \n",
       "2  -727612092139916043  Monterey Park    CA  91754.0  5411   <NA>    No  \n",
       "3  3414527459579106770  Monterey Park    CA  91754.0  5651   <NA>    No  \n",
       "4  5817218446178736267       La Verne    CA  91750.0  5912   <NA>    No  "
      ]
     },
     "execution_count": 16,
     "metadata": {},
     "output_type": "execute_result"
    }
   ],
   "source": [
    "data.head(5)"
   ]
  },
  {
   "cell_type": "markdown",
   "id": "ee33e39b",
   "metadata": {
    "id": "ee33e39b"
   },
   "source": [
    "# Xử lý missing values\n",
    "* Zip là numeral, thay thế missing bởi 0\n",
    "* State và Error là string, thay thế missing bởi 'XX'"
   ]
  },
  {
   "cell_type": "code",
   "execution_count": null,
   "id": "79e24ab7",
   "metadata": {
    "id": "79e24ab7"
   },
   "outputs": [],
   "source": [
    "UNKNOWN_STRING_MARKER = 'XX'\n",
    "UNKNOWN_ZIP_CODE = 0"
   ]
  },
  {
   "cell_type": "code",
   "execution_count": null,
   "id": "7b774e17",
   "metadata": {
    "id": "7b774e17"
   },
   "outputs": [],
   "source": [
    "# Đảm bảo rằng 'XX' không tồn tại trong trường State và Error trước khi thay thế các giá trị bị thiếu bởi 'XX'\n",
    "assert(UNKNOWN_STRING_MARKER not in set(data[COL_STATE].unique().to_pandas()))\n",
    "assert(UNKNOWN_STRING_MARKER not in set(data[COL_ERROR].unique().to_pandas()))"
   ]
  },
  {
   "cell_type": "code",
   "execution_count": null,
   "id": "a7964564",
   "metadata": {
    "id": "a7964564"
   },
   "outputs": [],
   "source": [
    "# Đảm bảo rằng 0 or 0.0 không tồn tại trong trường Zip trước khi thay thế các giá trị bị thiếu bởi 0\n",
    "assert(float(0) not in set(data[COL_ZIP].unique().to_pandas()))\n",
    "assert(0 not in set(data[COL_ZIP].unique().to_pandas()))"
   ]
  },
  {
   "cell_type": "code",
   "execution_count": null,
   "id": "a1baca88",
   "metadata": {
    "id": "a1baca88"
   },
   "outputs": [],
   "source": [
    "data[COL_STATE] = data[COL_STATE].fillna(UNKNOWN_STRING_MARKER)\n",
    "data[COL_ERROR] = data[COL_ERROR].fillna(UNKNOWN_STRING_MARKER)\n",
    "data[COL_ZIP] = data[COL_ZIP].fillna(UNKNOWN_ZIP_CODE)"
   ]
  },
  {
   "cell_type": "code",
   "execution_count": null,
   "id": "032KU5ml3SRB",
   "metadata": {
    "colab": {
     "base_uri": "https://localhost:8080/"
    },
    "executionInfo": {
     "elapsed": 29,
     "status": "ok",
     "timestamp": 1747292627198,
     "user": {
      "displayName": "Khánh Hoàng Kim",
      "userId": "06897714357605364137"
     },
     "user_tz": -420
    },
    "id": "032KU5ml3SRB",
    "outputId": "e7a083fc-7782-4307-caf5-3b79ae7a5cfd"
   },
   "outputs": [
    {
     "data": {
      "text/plain": [
       "User        0\n",
       "Card        0\n",
       "Year        0\n",
       "Month       0\n",
       "Day         0\n",
       "Time        0\n",
       "Amount      0\n",
       "Chip        0\n",
       "Merchant    0\n",
       "City        0\n",
       "State       0\n",
       "Zip         0\n",
       "MCC         0\n",
       "Errors      0\n",
       "Fraud       0\n",
       "dtype: int64"
      ]
     },
     "execution_count": 21,
     "metadata": {},
     "output_type": "execute_result"
    }
   ],
   "source": [
    "data.isnull().sum()"
   ]
  },
  {
   "cell_type": "markdown",
   "id": "5f027291-5d0b-4917-ada0-a0dbe6b80f9b",
   "metadata": {
    "id": "5f027291-5d0b-4917-ada0-a0dbe6b80f9b"
   },
   "source": [
    "# Làm sạch trường Amount field\n",
    "* Xóa \"$\" trong trường Amount và conver từ string thành float\n",
    "* Phân tích sự phân bố của trường Amount và chọn  scaler phù hợp"
   ]
  },
  {
   "cell_type": "code",
   "execution_count": null,
   "id": "3ffe11c2-5e6d-4fac-8b42-27efb02afa61",
   "metadata": {
    "id": "3ffe11c2-5e6d-4fac-8b42-27efb02afa61"
   },
   "outputs": [],
   "source": [
    "data[COL_AMOUNT] = data[COL_AMOUNT].str.replace(\"$\",\"\").astype(\"float\")"
   ]
  },
  {
   "cell_type": "code",
   "execution_count": null,
   "id": "09bd4966",
   "metadata": {
    "colab": {
     "base_uri": "https://localhost:8080/"
    },
    "executionInfo": {
     "elapsed": 495,
     "status": "ok",
     "timestamp": 1747292627759,
     "user": {
      "displayName": "Khánh Hoàng Kim",
      "userId": "06897714357605364137"
     },
     "user_tz": -420
    },
    "id": "09bd4966",
    "outputId": "7fac1708-bb02-4b75-b510-8ee418f75730"
   },
   "outputs": [
    {
     "data": {
      "text/plain": [
       "count    2.438690e+07\n",
       "mean     4.363401e+01\n",
       "std      8.202239e+01\n",
       "min     -5.000000e+02\n",
       "25%      9.200000e+00\n",
       "50%      3.014000e+01\n",
       "75%      6.506000e+01\n",
       "max      1.239050e+04\n",
       "Name: Amount, dtype: float64"
      ]
     },
     "execution_count": 23,
     "metadata": {},
     "output_type": "execute_result"
    }
   ],
   "source": [
    "data[COL_AMOUNT].describe()"
   ]
  },
  {
   "cell_type": "markdown",
   "id": "ab82a9f9",
   "metadata": {
    "id": "ab82a9f9"
   },
   "source": [
    "# Xem sự khác nhau giữa giao dịch fraud và non-fraud"
   ]
  },
  {
   "cell_type": "code",
   "execution_count": null,
   "id": "31679a1d",
   "metadata": {
    "colab": {
     "base_uri": "https://localhost:8080/"
    },
    "executionInfo": {
     "elapsed": 86,
     "status": "ok",
     "timestamp": 1747292627823,
     "user": {
      "displayName": "Khánh Hoàng Kim",
      "userId": "06897714357605364137"
     },
     "user_tz": -420
    },
    "id": "31679a1d",
    "outputId": "278bfa1c-ae50-4c52-e25e-5f7c8236bcc5"
   },
   "outputs": [
    {
     "data": {
      "text/plain": [
       "count    29757.000000\n",
       "mean       108.590874\n",
       "std        201.167421\n",
       "min       -500.000000\n",
       "25%         18.360000\n",
       "50%         71.020000\n",
       "75%        150.130000\n",
       "max       5694.440000\n",
       "Name: Amount, dtype: float64"
      ]
     },
     "execution_count": 24,
     "metadata": {},
     "output_type": "execute_result"
    }
   ],
   "source": [
    "# Fraud\n",
    "data[COL_AMOUNT][data[COL_FRAUD]=='Yes'].describe()"
   ]
  },
  {
   "cell_type": "code",
   "execution_count": null,
   "id": "0f49ff49",
   "metadata": {
    "colab": {
     "base_uri": "https://localhost:8080/"
    },
    "executionInfo": {
     "elapsed": 226,
     "status": "ok",
     "timestamp": 1747292628049,
     "user": {
      "displayName": "Khánh Hoàng Kim",
      "userId": "06897714357605364137"
     },
     "user_tz": -420
    },
    "id": "0f49ff49",
    "outputId": "0a46558c-a538-4702-913c-b0354cd9f3c3"
   },
   "outputs": [
    {
     "data": {
      "text/plain": [
       "count    2.435714e+07\n",
       "mean     4.355465e+01\n",
       "std      8.173917e+01\n",
       "min     -5.000000e+02\n",
       "25%      9.200000e+00\n",
       "50%      3.011000e+01\n",
       "75%      6.500000e+01\n",
       "max      1.239050e+04\n",
       "Name: Amount, dtype: float64"
      ]
     },
     "execution_count": 25,
     "metadata": {},
     "output_type": "execute_result"
    }
   ],
   "source": [
    "# Non-fraud\n",
    "data[COL_AMOUNT][data[COL_FRAUD]=='No'].describe()"
   ]
  },
  {
   "cell_type": "markdown",
   "id": "a190bb9e",
   "metadata": {
    "id": "a190bb9e"
   },
   "source": [
    "## Findings\n",
    "* 25th percentile = 9.2\n",
    "* 75th percentile =  65\n",
    "* Median là khoảng 30 và mean khoảng 43 trong khi giá trị max value là hơn 1200 và min là -500\n",
    "* Số tiền trung bình trong các giao dịch gian lận > 2x số tiền trung bình trong các giao dịch không gian lận\n",
    "\n",
    "Ta cần scale dữ liệu, và RobustScaler có thể là lựa chọn tốt."
   ]
  },
  {
   "cell_type": "markdown",
   "id": "b96a9ae1-1dcf-4480-a808-3afa913cb292",
   "metadata": {
    "id": "b96a9ae1-1dcf-4480-a808-3afa913cb292"
   },
   "source": [
    "# Trường \"Fraud\""
   ]
  },
  {
   "cell_type": "code",
   "execution_count": null,
   "id": "d7b6c719",
   "metadata": {
    "colab": {
     "base_uri": "https://localhost:8080/"
    },
    "executionInfo": {
     "elapsed": 11,
     "status": "ok",
     "timestamp": 1747292628060,
     "user": {
      "displayName": "Khánh Hoàng Kim",
      "userId": "06897714357605364137"
     },
     "user_tz": -420
    },
    "id": "d7b6c719",
    "outputId": "6fbee495-b1b9-4381-9556-6dd2fc96cf8f"
   },
   "outputs": [
    {
     "data": {
      "text/plain": [
       "0     No\n",
       "1    Yes\n",
       "Name: Fraud, dtype: object"
      ]
     },
     "execution_count": 26,
     "metadata": {},
     "output_type": "execute_result"
    }
   ],
   "source": [
    "# Có bao nhiêu danh mục khác nhau trong cột COL_FRAUD?\n",
    "# Hy vọng là chỉ có hai danh mục, 'Yes' và 'No'\n",
    "data[COL_FRAUD].unique()"
   ]
  },
  {
   "cell_type": "code",
   "execution_count": null,
   "id": "b5004040",
   "metadata": {
    "colab": {
     "base_uri": "https://localhost:8080/"
    },
    "executionInfo": {
     "elapsed": 185,
     "status": "ok",
     "timestamp": 1747292628257,
     "user": {
      "displayName": "Khánh Hoàng Kim",
      "userId": "06897714357605364137"
     },
     "user_tz": -420
    },
    "id": "b5004040",
    "outputId": "dd16a39b-f921-43ed-92f9-fd8d1b4f3c15"
   },
   "outputs": [
    {
     "data": {
      "text/plain": [
       "Fraud\n",
       "No     24357143\n",
       "Yes       29757\n",
       "Name: count, dtype: int64"
      ]
     },
     "execution_count": 27,
     "metadata": {},
     "output_type": "execute_result"
    }
   ],
   "source": [
    "data[COL_FRAUD].value_counts()"
   ]
  },
  {
   "cell_type": "code",
   "execution_count": null,
   "id": "62d498e1",
   "metadata": {
    "colab": {
     "base_uri": "https://localhost:8080/"
    },
    "executionInfo": {
     "elapsed": 15,
     "status": "ok",
     "timestamp": 1747292628292,
     "user": {
      "displayName": "Khánh Hoàng Kim",
      "userId": "06897714357605364137"
     },
     "user_tz": -420
    },
    "id": "62d498e1",
    "outputId": "8a254699-e04a-4c88-abce-a5e3446f9f73"
   },
   "outputs": [
    {
     "data": {
      "text/plain": [
       "Fraud\n",
       "No     99.87798\n",
       "Yes     0.12202\n",
       "Name: count, dtype: float64"
      ]
     },
     "execution_count": 28,
     "metadata": {},
     "output_type": "execute_result"
    }
   ],
   "source": [
    "100 * data[COL_FRAUD].value_counts()/len(data)"
   ]
  },
  {
   "cell_type": "markdown",
   "id": "a4f13282",
   "metadata": {
    "id": "a4f13282"
   },
   "source": [
    "## Đổi giá trị 'Fraud' thành integer\n",
    "  * 1 == Fraud\n",
    "  * 0 == Non-fraud"
   ]
  },
  {
   "cell_type": "code",
   "execution_count": null,
   "id": "aa31c844",
   "metadata": {
    "id": "aa31c844"
   },
   "outputs": [],
   "source": [
    "fraud_to_binary = {'No': 0, 'Yes': 1}\n",
    "data[COL_FRAUD] = data[COL_FRAUD].map(fraud_to_binary).astype('int8')"
   ]
  },
  {
   "cell_type": "code",
   "execution_count": null,
   "id": "7527510d",
   "metadata": {
    "colab": {
     "base_uri": "https://localhost:8080/"
    },
    "executionInfo": {
     "elapsed": 6,
     "status": "ok",
     "timestamp": 1747292628529,
     "user": {
      "displayName": "Khánh Hoàng Kim",
      "userId": "06897714357605364137"
     },
     "user_tz": -420
    },
    "id": "7527510d",
    "outputId": "401cb7c7-c432-4744-e7cd-1b8df239f37d"
   },
   "outputs": [
    {
     "data": {
      "text/plain": [
       "Fraud\n",
       "0    24357143\n",
       "1       29757\n",
       "Name: count, dtype: int64"
      ]
     },
     "execution_count": 30,
     "metadata": {},
     "output_type": "execute_result"
    }
   ],
   "source": [
    "data[COL_FRAUD].value_counts()"
   ]
  },
  {
   "cell_type": "markdown",
   "id": "54f56d5a-f135-4af2-ba13-b926f66a045f",
   "metadata": {
    "id": "54f56d5a-f135-4af2-ba13-b926f66a045f"
   },
   "source": [
    "# Cột 'City', 'State', and 'Zip'"
   ]
  },
  {
   "cell_type": "code",
   "execution_count": null,
   "id": "2dff40cb",
   "metadata": {
    "colab": {
     "base_uri": "https://localhost:8080/"
    },
    "executionInfo": {
     "elapsed": 26,
     "status": "ok",
     "timestamp": 1747292628553,
     "user": {
      "displayName": "Khánh Hoàng Kim",
      "userId": "06897714357605364137"
     },
     "user_tz": -420
    },
    "id": "2dff40cb",
    "outputId": "b1bf2b61-650d-4e44-9f7d-705768357396"
   },
   "outputs": [
    {
     "data": {
      "text/plain": [
       "0               La Verne\n",
       "1          Monterey Park\n",
       "2                 ONLINE\n",
       "3              Mira Loma\n",
       "4            Diamond Bar\n",
       "              ...       \n",
       "13424          Loysville\n",
       "13425    Laurel Bloomery\n",
       "13426            Alburgh\n",
       "13427            Buskirk\n",
       "13428             Mooers\n",
       "Name: City, Length: 13429, dtype: object"
      ]
     },
     "execution_count": 31,
     "metadata": {},
     "output_type": "execute_result"
    }
   ],
   "source": [
    "data[COL_CITY].unique()"
   ]
  },
  {
   "cell_type": "code",
   "execution_count": null,
   "id": "9cdf46ef",
   "metadata": {
    "colab": {
     "base_uri": "https://localhost:8080/"
    },
    "executionInfo": {
     "elapsed": 40,
     "status": "ok",
     "timestamp": 1747292628594,
     "user": {
      "displayName": "Khánh Hoàng Kim",
      "userId": "06897714357605364137"
     },
     "user_tz": -420
    },
    "id": "9cdf46ef",
    "outputId": "a824b935-3a3f-4723-b569-1258e6a2ff81"
   },
   "outputs": [
    {
     "data": {
      "text/plain": [
       "0                            CA\n",
       "1                            XX\n",
       "2                            NE\n",
       "3                            IL\n",
       "4                            MO\n",
       "                 ...           \n",
       "219    Central African Republic\n",
       "220                       Qatar\n",
       "221    East Timor (Timor-Leste)\n",
       "222                  Seychelles\n",
       "223                     Andorra\n",
       "Name: State, Length: 224, dtype: object"
      ]
     },
     "execution_count": 32,
     "metadata": {},
     "output_type": "execute_result"
    }
   ],
   "source": [
    "data[COL_STATE].unique()"
   ]
  },
  {
   "cell_type": "code",
   "execution_count": null,
   "id": "36297321-fb9b-48c6-afce-f083834eea4e",
   "metadata": {
    "colab": {
     "base_uri": "https://localhost:8080/"
    },
    "executionInfo": {
     "elapsed": 49,
     "status": "ok",
     "timestamp": 1747292628644,
     "user": {
      "displayName": "Khánh Hoàng Kim",
      "userId": "06897714357605364137"
     },
     "user_tz": -420
    },
    "id": "36297321-fb9b-48c6-afce-f083834eea4e",
    "outputId": "b9bed3f0-bc9b-46ee-dfd1-8093a19bfab6"
   },
   "outputs": [
    {
     "data": {
      "text/plain": [
       "0        91750.0\n",
       "1        91754.0\n",
       "2        91755.0\n",
       "3            0.0\n",
       "4        91752.0\n",
       "          ...   \n",
       "27317    17047.0\n",
       "27318    37680.0\n",
       "27319     5440.0\n",
       "27320    12028.0\n",
       "27321    12958.0\n",
       "Name: Zip, Length: 27322, dtype: float64"
      ]
     },
     "execution_count": 33,
     "metadata": {},
     "output_type": "execute_result"
    }
   ],
   "source": [
    "data[COL_ZIP].unique()"
   ]
  },
  {
   "cell_type": "markdown",
   "id": "ab51419d-c051-489b-af63-935248c133d0",
   "metadata": {
    "id": "ab51419d-c051-489b-af63-935248c133d0"
   },
   "source": [
    "# Cột 'Chip'\n",
    "\n",
    "\n",
    "\n"
   ]
  },
  {
   "cell_type": "code",
   "execution_count": null,
   "id": "5ae85372-0f22-4850-bfa4-b8513b742663",
   "metadata": {
    "colab": {
     "base_uri": "https://localhost:8080/"
    },
    "executionInfo": {
     "elapsed": 27,
     "status": "ok",
     "timestamp": 1747292628670,
     "user": {
      "displayName": "Khánh Hoàng Kim",
      "userId": "06897714357605364137"
     },
     "user_tz": -420
    },
    "id": "5ae85372-0f22-4850-bfa4-b8513b742663",
    "outputId": "5b4531a6-51eb-4e79-fe4d-ac09a5138f91"
   },
   "outputs": [
    {
     "data": {
      "text/plain": [
       "0     Swipe Transaction\n",
       "1    Online Transaction\n",
       "2      Chip Transaction\n",
       "Name: Chip, dtype: object"
      ]
     },
     "execution_count": 34,
     "metadata": {},
     "output_type": "execute_result"
    }
   ],
   "source": [
    "data[COL_CHIP].unique()"
   ]
  },
  {
   "cell_type": "markdown",
   "id": "22939e0f-bae0-4af3-aa3b-1b79974c0697",
   "metadata": {
    "id": "22939e0f-bae0-4af3-aa3b-1b79974c0697"
   },
   "source": [
    "# Cột 'Error'"
   ]
  },
  {
   "cell_type": "code",
   "execution_count": null,
   "id": "b877a558-4306-49f1-aa75-ba535be4470b",
   "metadata": {
    "colab": {
     "base_uri": "https://localhost:8080/"
    },
    "executionInfo": {
     "elapsed": 51,
     "status": "ok",
     "timestamp": 1747292628720,
     "user": {
      "displayName": "Khánh Hoàng Kim",
      "userId": "06897714357605364137"
     },
     "user_tz": -420
    },
    "id": "b877a558-4306-49f1-aa75-ba535be4470b",
    "outputId": "c0c79215-1671-44cc-d6b7-25069a888698"
   },
   "outputs": [
    {
     "data": {
      "text/plain": [
       "0                                                    XX\n",
       "1                                     Technical Glitch,\n",
       "2                                 Insufficient Balance,\n",
       "3                                              Bad PIN,\n",
       "4                         Bad PIN,Insufficient Balance,\n",
       "5                                       Bad Expiration,\n",
       "6                             Bad PIN,Technical Glitch,\n",
       "7                                      Bad Card Number,\n",
       "8                                              Bad CVV,\n",
       "9                                          Bad Zipcode,\n",
       "10               Insufficient Balance,Technical Glitch,\n",
       "11                Bad Card Number,Insufficient Balance,\n",
       "12                             Bad Card Number,Bad CVV,\n",
       "13                        Bad CVV,Insufficient Balance,\n",
       "14                      Bad Card Number,Bad Expiration,\n",
       "15                              Bad Expiration,Bad CVV,\n",
       "16                 Bad Expiration,Insufficient Balance,\n",
       "17                     Bad Expiration,Technical Glitch,\n",
       "18     Bad Card Number,Bad Expiration,Technical Glitch,\n",
       "19                            Bad CVV,Technical Glitch,\n",
       "20                    Bad Card Number,Technical Glitch,\n",
       "21                    Bad Zipcode,Insufficient Balance,\n",
       "22                        Bad Zipcode,Technical Glitch,\n",
       "23    Bad Card Number,Bad Expiration,Insufficient Ba...\n",
       "Name: Errors, dtype: object"
      ]
     },
     "execution_count": 35,
     "metadata": {},
     "output_type": "execute_result"
    }
   ],
   "source": [
    "data[COL_ERROR].unique()"
   ]
  },
  {
   "cell_type": "code",
   "execution_count": null,
   "id": "aa6a67c0",
   "metadata": {
    "id": "aa6a67c0"
   },
   "outputs": [],
   "source": [
    "# Xóa ','\n",
    "data[COL_ERROR] = data[COL_ERROR].str.replace(\",\",\"\")"
   ]
  },
  {
   "cell_type": "markdown",
   "id": "86ca593a",
   "metadata": {
    "id": "86ca593a"
   },
   "source": [
    "#### Findings\n",
    "Chúng ta có thể  one hot hoặc binary encode với ít categories và binary/hash encode với nhiều hơn 8 categories"
   ]
  },
  {
   "cell_type": "markdown",
   "id": "50933790-780c-43cc-833d-c7ad16acbde3",
   "metadata": {
    "id": "50933790-780c-43cc-833d-c7ad16acbde3"
   },
   "source": [
    "# Time\n",
    "Thời gian được ghi lại theo giờ:phút.\n",
    "\n",
    "Converting thời gian thành số phút.\n",
    "\n",
    "time = (số giờ * 60) + số phút"
   ]
  },
  {
   "cell_type": "code",
   "execution_count": null,
   "id": "a97c5a95",
   "metadata": {
    "colab": {
     "base_uri": "https://localhost:8080/"
    },
    "executionInfo": {
     "elapsed": 100,
     "status": "ok",
     "timestamp": 1747292628836,
     "user": {
      "displayName": "Khánh Hoàng Kim",
      "userId": "06897714357605364137"
     },
     "user_tz": -420
    },
    "id": "a97c5a95",
    "outputId": "b02d4e40-e448-4543-9f7a-d5a88d13b80d"
   },
   "outputs": [
    {
     "data": {
      "text/plain": [
       "count     24386900\n",
       "unique        1440\n",
       "top          12:31\n",
       "freq         30604\n",
       "Name: Time, dtype: object"
      ]
     },
     "execution_count": 37,
     "metadata": {},
     "output_type": "execute_result"
    }
   ],
   "source": [
    "data[COL_TIME].describe()"
   ]
  },
  {
   "cell_type": "code",
   "execution_count": null,
   "id": "1df15290-f60f-416d-81a4-437ff45b6d92",
   "metadata": {
    "id": "1df15290-f60f-416d-81a4-437ff45b6d92"
   },
   "outputs": [],
   "source": [
    "# Chia cột time thành hours và minutes ép sang int32\n",
    "T = data[COL_TIME].str.split(':', expand=True)\n",
    "T[0] = T[0].astype('int32')\n",
    "T[1] = T[1].astype('int32')"
   ]
  },
  {
   "cell_type": "code",
   "execution_count": null,
   "id": "15d77736-53dd-4af6-a475-9ad812f84731",
   "metadata": {
    "id": "15d77736-53dd-4af6-a475-9ad812f84731"
   },
   "outputs": [],
   "source": [
    "# Thay thế cột 'Time' bởi cột mới\n",
    "data[COL_TIME] = (T[0] * 60 ) + T[1]\n",
    "data[COL_TIME] = data[COL_TIME].astype(\"int32\")"
   ]
  },
  {
   "cell_type": "code",
   "execution_count": null,
   "id": "8kHp994nQUN_",
   "metadata": {
    "colab": {
     "base_uri": "https://localhost:8080/",
     "height": 206
    },
    "executionInfo": {
     "elapsed": 972,
     "status": "ok",
     "timestamp": 1747292629973,
     "user": {
      "displayName": "Khánh Hoàng Kim",
      "userId": "06897714357605364137"
     },
     "user_tz": -420
    },
    "id": "8kHp994nQUN_",
    "outputId": "7f2b0c48-04fa-46ec-c090-3ca43dd94cd3"
   },
   "outputs": [
    {
     "data": {
      "text/html": [
       "<div>\n",
       "<style scoped>\n",
       "    .dataframe tbody tr th:only-of-type {\n",
       "        vertical-align: middle;\n",
       "    }\n",
       "\n",
       "    .dataframe tbody tr th {\n",
       "        vertical-align: top;\n",
       "    }\n",
       "\n",
       "    .dataframe thead th {\n",
       "        text-align: right;\n",
       "    }\n",
       "</style>\n",
       "<table border=\"1\" class=\"dataframe\">\n",
       "  <thead>\n",
       "    <tr style=\"text-align: right;\">\n",
       "      <th></th>\n",
       "      <th>User</th>\n",
       "      <th>Card</th>\n",
       "      <th>Year</th>\n",
       "      <th>Month</th>\n",
       "      <th>Day</th>\n",
       "      <th>Time</th>\n",
       "      <th>Amount</th>\n",
       "      <th>Chip</th>\n",
       "      <th>Merchant</th>\n",
       "      <th>City</th>\n",
       "      <th>State</th>\n",
       "      <th>Zip</th>\n",
       "      <th>MCC</th>\n",
       "      <th>Errors</th>\n",
       "      <th>Fraud</th>\n",
       "    </tr>\n",
       "  </thead>\n",
       "  <tbody>\n",
       "    <tr>\n",
       "      <th>0</th>\n",
       "      <td>0</td>\n",
       "      <td>0</td>\n",
       "      <td>2002</td>\n",
       "      <td>9</td>\n",
       "      <td>1</td>\n",
       "      <td>381</td>\n",
       "      <td>134.09</td>\n",
       "      <td>Swipe Transaction</td>\n",
       "      <td>3527213246127876953</td>\n",
       "      <td>La Verne</td>\n",
       "      <td>CA</td>\n",
       "      <td>91750.0</td>\n",
       "      <td>5300</td>\n",
       "      <td>XX</td>\n",
       "      <td>0</td>\n",
       "    </tr>\n",
       "    <tr>\n",
       "      <th>1</th>\n",
       "      <td>0</td>\n",
       "      <td>0</td>\n",
       "      <td>2002</td>\n",
       "      <td>9</td>\n",
       "      <td>1</td>\n",
       "      <td>402</td>\n",
       "      <td>38.48</td>\n",
       "      <td>Swipe Transaction</td>\n",
       "      <td>-727612092139916043</td>\n",
       "      <td>Monterey Park</td>\n",
       "      <td>CA</td>\n",
       "      <td>91754.0</td>\n",
       "      <td>5411</td>\n",
       "      <td>XX</td>\n",
       "      <td>0</td>\n",
       "    </tr>\n",
       "    <tr>\n",
       "      <th>2</th>\n",
       "      <td>0</td>\n",
       "      <td>0</td>\n",
       "      <td>2002</td>\n",
       "      <td>9</td>\n",
       "      <td>2</td>\n",
       "      <td>382</td>\n",
       "      <td>120.34</td>\n",
       "      <td>Swipe Transaction</td>\n",
       "      <td>-727612092139916043</td>\n",
       "      <td>Monterey Park</td>\n",
       "      <td>CA</td>\n",
       "      <td>91754.0</td>\n",
       "      <td>5411</td>\n",
       "      <td>XX</td>\n",
       "      <td>0</td>\n",
       "    </tr>\n",
       "    <tr>\n",
       "      <th>3</th>\n",
       "      <td>0</td>\n",
       "      <td>0</td>\n",
       "      <td>2002</td>\n",
       "      <td>9</td>\n",
       "      <td>2</td>\n",
       "      <td>1065</td>\n",
       "      <td>128.95</td>\n",
       "      <td>Swipe Transaction</td>\n",
       "      <td>3414527459579106770</td>\n",
       "      <td>Monterey Park</td>\n",
       "      <td>CA</td>\n",
       "      <td>91754.0</td>\n",
       "      <td>5651</td>\n",
       "      <td>XX</td>\n",
       "      <td>0</td>\n",
       "    </tr>\n",
       "    <tr>\n",
       "      <th>4</th>\n",
       "      <td>0</td>\n",
       "      <td>0</td>\n",
       "      <td>2002</td>\n",
       "      <td>9</td>\n",
       "      <td>3</td>\n",
       "      <td>383</td>\n",
       "      <td>104.71</td>\n",
       "      <td>Swipe Transaction</td>\n",
       "      <td>5817218446178736267</td>\n",
       "      <td>La Verne</td>\n",
       "      <td>CA</td>\n",
       "      <td>91750.0</td>\n",
       "      <td>5912</td>\n",
       "      <td>XX</td>\n",
       "      <td>0</td>\n",
       "    </tr>\n",
       "  </tbody>\n",
       "</table>\n",
       "</div>"
      ],
      "text/plain": [
       "   User  Card  Year  Month  Day  Time  Amount               Chip  \\\n",
       "0     0     0  2002      9    1   381  134.09  Swipe Transaction   \n",
       "1     0     0  2002      9    1   402   38.48  Swipe Transaction   \n",
       "2     0     0  2002      9    2   382  120.34  Swipe Transaction   \n",
       "3     0     0  2002      9    2  1065  128.95  Swipe Transaction   \n",
       "4     0     0  2002      9    3   383  104.71  Swipe Transaction   \n",
       "\n",
       "              Merchant           City State      Zip   MCC Errors  Fraud  \n",
       "0  3527213246127876953       La Verne    CA  91750.0  5300     XX      0  \n",
       "1  -727612092139916043  Monterey Park    CA  91754.0  5411     XX      0  \n",
       "2  -727612092139916043  Monterey Park    CA  91754.0  5411     XX      0  \n",
       "3  3414527459579106770  Monterey Park    CA  91754.0  5651     XX      0  \n",
       "4  5817218446178736267       La Verne    CA  91750.0  5912     XX      0  "
      ]
     },
     "execution_count": 40,
     "metadata": {},
     "output_type": "execute_result"
    }
   ],
   "source": [
    "data.head(5)"
   ]
  },
  {
   "cell_type": "code",
   "execution_count": null,
   "id": "d51b6840-2912-4ecb-9998-7adc680f9d87",
   "metadata": {
    "id": "d51b6840-2912-4ecb-9998-7adc680f9d87"
   },
   "outputs": [],
   "source": [
    "# Xóa DataFrame tạm thời\n",
    "del(T)"
   ]
  },
  {
   "cell_type": "markdown",
   "id": "a8d41134",
   "metadata": {
    "id": "a8d41134"
   },
   "source": [
    "\n",
    "# Cột Merchant"
   ]
  },
  {
   "cell_type": "code",
   "execution_count": null,
   "id": "aac83d7d",
   "metadata": {
    "colab": {
     "base_uri": "https://localhost:8080/"
    },
    "executionInfo": {
     "elapsed": 33,
     "status": "ok",
     "timestamp": 1747292630001,
     "user": {
      "displayName": "Khánh Hoàng Kim",
      "userId": "06897714357605364137"
     },
     "user_tz": -420
    },
    "id": "aac83d7d",
    "outputId": "24841549-44da-411d-ec16-8115ae272040"
   },
   "outputs": [
    {
     "data": {
      "text/plain": [
       "0           3527213246127876953\n",
       "1           -727612092139916043\n",
       "2           -727612092139916043\n",
       "3           3414527459579106770\n",
       "4           5817218446178736267\n",
       "                   ...         \n",
       "24386895   -5162038175624867091\n",
       "24386896   -5162038175624867091\n",
       "24386897    2500998799892805156\n",
       "24386898    2500998799892805156\n",
       "24386899    4751695835751691036\n",
       "Name: Merchant, Length: 24386900, dtype: int64"
      ]
     },
     "execution_count": 42,
     "metadata": {},
     "output_type": "execute_result"
    }
   ],
   "source": [
    "data[COL_MERCHANT]"
   ]
  },
  {
   "cell_type": "markdown",
   "id": "2f79e111",
   "metadata": {
    "id": "2f79e111"
   },
   "source": [
    "## Convert kiểu thành string"
   ]
  },
  {
   "cell_type": "code",
   "execution_count": null,
   "id": "bd0348c4",
   "metadata": {
    "colab": {
     "base_uri": "https://localhost:8080/"
    },
    "executionInfo": {
     "elapsed": 31,
     "status": "ok",
     "timestamp": 1747292630003,
     "user": {
      "displayName": "Khánh Hoàng Kim",
      "userId": "06897714357605364137"
     },
     "user_tz": -420
    },
    "id": "bd0348c4",
    "outputId": "d9d0a3d5-02b8-4ead-f412-f2b9874ae4c5"
   },
   "outputs": [
    {
     "data": {
      "text/plain": [
       "0          3527213246127876953\n",
       "1          -727612092139916043\n",
       "2          3414527459579106770\n",
       "3          5817218446178736267\n",
       "4         -7146670748125200898\n",
       "                  ...         \n",
       "100338     2963633013590132543\n",
       "100339     3970346884766028008\n",
       "100340    -4348891722741102135\n",
       "100341     -642409450154660123\n",
       "100342    -3533580464561517260\n",
       "Name: Merchant, Length: 100343, dtype: object"
      ]
     },
     "execution_count": 43,
     "metadata": {},
     "output_type": "execute_result"
    }
   ],
   "source": [
    "data[COL_MERCHANT] = data[COL_MERCHANT].astype('str')\n",
    "\n",
    "# Hơn 100000 thương gia\n",
    "data[COL_MERCHANT].unique()"
   ]
  },
  {
   "cell_type": "markdown",
   "id": "d8b4daee",
   "metadata": {
    "id": "d8b4daee"
   },
   "source": [
    "# Cột Card\n",
    "* \"Card 0\" của User 1 khác \"Card 0\" của User 2.\n",
    "* Kết hợp User và Card để (User, Card) là duy nhất"
   ]
  },
  {
   "cell_type": "code",
   "execution_count": null,
   "id": "1a2abade",
   "metadata": {
    "colab": {
     "base_uri": "https://localhost:8080/"
    },
    "executionInfo": {
     "elapsed": 32,
     "status": "ok",
     "timestamp": 1747292630036,
     "user": {
      "displayName": "Khánh Hoàng Kim",
      "userId": "06897714357605364137"
     },
     "user_tz": -420
    },
    "id": "1a2abade",
    "outputId": "189e0904-7f2e-4481-80ea-34490398dd5e"
   },
   "outputs": [
    {
     "data": {
      "text/plain": [
       "0    0\n",
       "1    1\n",
       "2    2\n",
       "3    3\n",
       "4    4\n",
       "5    5\n",
       "6    6\n",
       "7    7\n",
       "8    8\n",
       "Name: Card, dtype: int64"
      ]
     },
     "execution_count": 44,
     "metadata": {},
     "output_type": "execute_result"
    }
   ],
   "source": [
    "data[COL_CARD].unique()"
   ]
  },
  {
   "cell_type": "code",
   "execution_count": null,
   "id": "068a05b0",
   "metadata": {
    "id": "068a05b0"
   },
   "outputs": [],
   "source": [
    "max_nr_cards_per_user = len(data[COL_CARD].unique())"
   ]
  },
  {
   "cell_type": "code",
   "execution_count": null,
   "id": "s0w3zBY5REEo",
   "metadata": {
    "colab": {
     "base_uri": "https://localhost:8080/"
    },
    "executionInfo": {
     "elapsed": 23,
     "status": "ok",
     "timestamp": 1747292630090,
     "user": {
      "displayName": "Khánh Hoàng Kim",
      "userId": "06897714357605364137"
     },
     "user_tz": -420
    },
    "id": "s0w3zBY5REEo",
    "outputId": "69b0a998-3333-4675-e8b3-5d981ebe65a1"
   },
   "outputs": [
    {
     "data": {
      "text/plain": [
       "9"
      ]
     },
     "execution_count": 46,
     "metadata": {},
     "output_type": "execute_result"
    }
   ],
   "source": [
    "max_nr_cards_per_user"
   ]
  },
  {
   "cell_type": "code",
   "execution_count": null,
   "id": "5a64bb4f",
   "metadata": {
    "id": "5a64bb4f"
   },
   "outputs": [],
   "source": [
    "# Kết hợp User vaf Card để tạo ra số duy nhất\n",
    "data[COL_CARD] = data[COL_USER] * len(data[COL_CARD].unique())  + data[COL_CARD]\n",
    "data[COL_CARD] = data[COL_CARD].astype('int')"
   ]
  },
  {
   "cell_type": "code",
   "execution_count": null,
   "id": "41k8Md0ORS9B",
   "metadata": {
    "colab": {
     "base_uri": "https://localhost:8080/"
    },
    "executionInfo": {
     "elapsed": 41,
     "status": "ok",
     "timestamp": 1747292630153,
     "user": {
      "displayName": "Khánh Hoàng Kim",
      "userId": "06897714357605364137"
     },
     "user_tz": -420
    },
    "id": "41k8Md0ORS9B",
    "outputId": "16900b70-b4cf-4d2d-c64c-8d67b3078932"
   },
   "outputs": [
    {
     "data": {
      "text/plain": [
       "0           0\n",
       "1           1\n",
       "2           2\n",
       "3           3\n",
       "4           4\n",
       "        ...  \n",
       "6134    17974\n",
       "6135    17975\n",
       "6136    17982\n",
       "6137    17991\n",
       "6138    17992\n",
       "Name: Card, Length: 6139, dtype: int64"
      ]
     },
     "execution_count": 48,
     "metadata": {},
     "output_type": "execute_result"
    }
   ],
   "source": [
    "data[COL_CARD].unique()"
   ]
  },
  {
   "cell_type": "code",
   "execution_count": null,
   "id": "LJ15226ORa0S",
   "metadata": {
    "colab": {
     "base_uri": "https://localhost:8080/"
    },
    "executionInfo": {
     "elapsed": 6,
     "status": "ok",
     "timestamp": 1747292630154,
     "user": {
      "displayName": "Khánh Hoàng Kim",
      "userId": "06897714357605364137"
     },
     "user_tz": -420
    },
    "id": "LJ15226ORa0S",
    "outputId": "45fe7d63-6420-43a3-9431-4d4a17094b83"
   },
   "outputs": [
    {
     "data": {
      "text/plain": [
       "0          0\n",
       "1          1\n",
       "2          2\n",
       "3          3\n",
       "4          4\n",
       "        ... \n",
       "1995    1995\n",
       "1996    1996\n",
       "1997    1997\n",
       "1998    1998\n",
       "1999    1999\n",
       "Name: User, Length: 2000, dtype: int64"
      ]
     },
     "execution_count": 49,
     "metadata": {},
     "output_type": "execute_result"
    }
   ],
   "source": [
    "data[COL_USER].unique()"
   ]
  },
  {
   "cell_type": "markdown",
   "id": "5a815bc9",
   "metadata": {
    "id": "5a815bc9"
   },
   "source": [
    "# Định nghĩa hàm để tính tương quan giữa các trường categorical khác nhau với target"
   ]
  },
  {
   "cell_type": "code",
   "execution_count": null,
   "id": "cfaa31fd",
   "metadata": {
    "id": "cfaa31fd"
   },
   "outputs": [],
   "source": [
    "# https://en.wikipedia.org/wiki/Cram%C3%A9r's_V\n",
    "\n",
    "def cramers_v(x, y):\n",
    "    confusion_matrix = cudf.crosstab(x, y).to_numpy()\n",
    "    chi2 = ss.chi2_contingency(confusion_matrix)[0]\n",
    "    n = confusion_matrix.sum().sum()\n",
    "    r, k = confusion_matrix.shape\n",
    "    return np.sqrt(chi2 / (n * (min(k-1, r-1))))"
   ]
  },
  {
   "cell_type": "markdown",
   "id": "1fa39773",
   "metadata": {
    "id": "1fa39773"
   },
   "source": [
    "## Tính tương quan của các trường với target"
   ]
  },
  {
   "cell_type": "code",
   "execution_count": null,
   "id": "yLgzkG-IUbs0",
   "metadata": {
    "colab": {
     "base_uri": "https://localhost:8080/",
     "height": 424
    },
    "executionInfo": {
     "elapsed": 93,
     "status": "ok",
     "timestamp": 1747292630250,
     "user": {
      "displayName": "Khánh Hoàng Kim",
      "userId": "06897714357605364137"
     },
     "user_tz": -420
    },
    "id": "yLgzkG-IUbs0",
    "outputId": "18a75ab6-e605-42f1-8240-e98e12db26c5"
   },
   "outputs": [
    {
     "data": {
      "text/html": [
       "<div>\n",
       "<style scoped>\n",
       "    .dataframe tbody tr th:only-of-type {\n",
       "        vertical-align: middle;\n",
       "    }\n",
       "\n",
       "    .dataframe tbody tr th {\n",
       "        vertical-align: top;\n",
       "    }\n",
       "\n",
       "    .dataframe thead th {\n",
       "        text-align: right;\n",
       "    }\n",
       "</style>\n",
       "<table border=\"1\" class=\"dataframe\">\n",
       "  <thead>\n",
       "    <tr style=\"text-align: right;\">\n",
       "      <th></th>\n",
       "      <th>User</th>\n",
       "      <th>Card</th>\n",
       "      <th>Year</th>\n",
       "      <th>Month</th>\n",
       "      <th>Day</th>\n",
       "      <th>Time</th>\n",
       "      <th>Amount</th>\n",
       "      <th>Chip</th>\n",
       "      <th>Merchant</th>\n",
       "      <th>City</th>\n",
       "      <th>State</th>\n",
       "      <th>Zip</th>\n",
       "      <th>MCC</th>\n",
       "      <th>Errors</th>\n",
       "      <th>Fraud</th>\n",
       "    </tr>\n",
       "  </thead>\n",
       "  <tbody>\n",
       "    <tr>\n",
       "      <th>0</th>\n",
       "      <td>0</td>\n",
       "      <td>0</td>\n",
       "      <td>2002</td>\n",
       "      <td>9</td>\n",
       "      <td>1</td>\n",
       "      <td>381</td>\n",
       "      <td>134.09</td>\n",
       "      <td>Swipe Transaction</td>\n",
       "      <td>3527213246127876953</td>\n",
       "      <td>La Verne</td>\n",
       "      <td>CA</td>\n",
       "      <td>91750.0</td>\n",
       "      <td>5300</td>\n",
       "      <td>XX</td>\n",
       "      <td>0</td>\n",
       "    </tr>\n",
       "    <tr>\n",
       "      <th>1</th>\n",
       "      <td>0</td>\n",
       "      <td>0</td>\n",
       "      <td>2002</td>\n",
       "      <td>9</td>\n",
       "      <td>1</td>\n",
       "      <td>402</td>\n",
       "      <td>38.48</td>\n",
       "      <td>Swipe Transaction</td>\n",
       "      <td>-727612092139916043</td>\n",
       "      <td>Monterey Park</td>\n",
       "      <td>CA</td>\n",
       "      <td>91754.0</td>\n",
       "      <td>5411</td>\n",
       "      <td>XX</td>\n",
       "      <td>0</td>\n",
       "    </tr>\n",
       "    <tr>\n",
       "      <th>2</th>\n",
       "      <td>0</td>\n",
       "      <td>0</td>\n",
       "      <td>2002</td>\n",
       "      <td>9</td>\n",
       "      <td>2</td>\n",
       "      <td>382</td>\n",
       "      <td>120.34</td>\n",
       "      <td>Swipe Transaction</td>\n",
       "      <td>-727612092139916043</td>\n",
       "      <td>Monterey Park</td>\n",
       "      <td>CA</td>\n",
       "      <td>91754.0</td>\n",
       "      <td>5411</td>\n",
       "      <td>XX</td>\n",
       "      <td>0</td>\n",
       "    </tr>\n",
       "    <tr>\n",
       "      <th>3</th>\n",
       "      <td>0</td>\n",
       "      <td>0</td>\n",
       "      <td>2002</td>\n",
       "      <td>9</td>\n",
       "      <td>2</td>\n",
       "      <td>1065</td>\n",
       "      <td>128.95</td>\n",
       "      <td>Swipe Transaction</td>\n",
       "      <td>3414527459579106770</td>\n",
       "      <td>Monterey Park</td>\n",
       "      <td>CA</td>\n",
       "      <td>91754.0</td>\n",
       "      <td>5651</td>\n",
       "      <td>XX</td>\n",
       "      <td>0</td>\n",
       "    </tr>\n",
       "    <tr>\n",
       "      <th>4</th>\n",
       "      <td>0</td>\n",
       "      <td>0</td>\n",
       "      <td>2002</td>\n",
       "      <td>9</td>\n",
       "      <td>3</td>\n",
       "      <td>383</td>\n",
       "      <td>104.71</td>\n",
       "      <td>Swipe Transaction</td>\n",
       "      <td>5817218446178736267</td>\n",
       "      <td>La Verne</td>\n",
       "      <td>CA</td>\n",
       "      <td>91750.0</td>\n",
       "      <td>5912</td>\n",
       "      <td>XX</td>\n",
       "      <td>0</td>\n",
       "    </tr>\n",
       "    <tr>\n",
       "      <th>...</th>\n",
       "      <td>...</td>\n",
       "      <td>...</td>\n",
       "      <td>...</td>\n",
       "      <td>...</td>\n",
       "      <td>...</td>\n",
       "      <td>...</td>\n",
       "      <td>...</td>\n",
       "      <td>...</td>\n",
       "      <td>...</td>\n",
       "      <td>...</td>\n",
       "      <td>...</td>\n",
       "      <td>...</td>\n",
       "      <td>...</td>\n",
       "      <td>...</td>\n",
       "      <td>...</td>\n",
       "    </tr>\n",
       "    <tr>\n",
       "      <th>24386895</th>\n",
       "      <td>1999</td>\n",
       "      <td>17992</td>\n",
       "      <td>2020</td>\n",
       "      <td>2</td>\n",
       "      <td>27</td>\n",
       "      <td>1343</td>\n",
       "      <td>-54.00</td>\n",
       "      <td>Chip Transaction</td>\n",
       "      <td>-5162038175624867091</td>\n",
       "      <td>Merrimack</td>\n",
       "      <td>NH</td>\n",
       "      <td>3054.0</td>\n",
       "      <td>5541</td>\n",
       "      <td>XX</td>\n",
       "      <td>0</td>\n",
       "    </tr>\n",
       "    <tr>\n",
       "      <th>24386896</th>\n",
       "      <td>1999</td>\n",
       "      <td>17992</td>\n",
       "      <td>2020</td>\n",
       "      <td>2</td>\n",
       "      <td>27</td>\n",
       "      <td>1344</td>\n",
       "      <td>54.00</td>\n",
       "      <td>Chip Transaction</td>\n",
       "      <td>-5162038175624867091</td>\n",
       "      <td>Merrimack</td>\n",
       "      <td>NH</td>\n",
       "      <td>3054.0</td>\n",
       "      <td>5541</td>\n",
       "      <td>XX</td>\n",
       "      <td>0</td>\n",
       "    </tr>\n",
       "    <tr>\n",
       "      <th>24386897</th>\n",
       "      <td>1999</td>\n",
       "      <td>17992</td>\n",
       "      <td>2020</td>\n",
       "      <td>2</td>\n",
       "      <td>28</td>\n",
       "      <td>463</td>\n",
       "      <td>59.15</td>\n",
       "      <td>Chip Transaction</td>\n",
       "      <td>2500998799892805156</td>\n",
       "      <td>Merrimack</td>\n",
       "      <td>NH</td>\n",
       "      <td>3054.0</td>\n",
       "      <td>4121</td>\n",
       "      <td>XX</td>\n",
       "      <td>0</td>\n",
       "    </tr>\n",
       "    <tr>\n",
       "      <th>24386898</th>\n",
       "      <td>1999</td>\n",
       "      <td>17992</td>\n",
       "      <td>2020</td>\n",
       "      <td>2</td>\n",
       "      <td>28</td>\n",
       "      <td>1210</td>\n",
       "      <td>43.12</td>\n",
       "      <td>Chip Transaction</td>\n",
       "      <td>2500998799892805156</td>\n",
       "      <td>Merrimack</td>\n",
       "      <td>NH</td>\n",
       "      <td>3054.0</td>\n",
       "      <td>4121</td>\n",
       "      <td>XX</td>\n",
       "      <td>0</td>\n",
       "    </tr>\n",
       "    <tr>\n",
       "      <th>24386899</th>\n",
       "      <td>1999</td>\n",
       "      <td>17992</td>\n",
       "      <td>2020</td>\n",
       "      <td>2</td>\n",
       "      <td>28</td>\n",
       "      <td>1390</td>\n",
       "      <td>45.13</td>\n",
       "      <td>Chip Transaction</td>\n",
       "      <td>4751695835751691036</td>\n",
       "      <td>Merrimack</td>\n",
       "      <td>NH</td>\n",
       "      <td>3054.0</td>\n",
       "      <td>5814</td>\n",
       "      <td>XX</td>\n",
       "      <td>0</td>\n",
       "    </tr>\n",
       "  </tbody>\n",
       "</table>\n",
       "<p>24386900 rows × 15 columns</p>\n",
       "</div>"
      ],
      "text/plain": [
       "          User   Card  Year  Month  Day  Time  Amount               Chip  \\\n",
       "0            0      0  2002      9    1   381  134.09  Swipe Transaction   \n",
       "1            0      0  2002      9    1   402   38.48  Swipe Transaction   \n",
       "2            0      0  2002      9    2   382  120.34  Swipe Transaction   \n",
       "3            0      0  2002      9    2  1065  128.95  Swipe Transaction   \n",
       "4            0      0  2002      9    3   383  104.71  Swipe Transaction   \n",
       "...        ...    ...   ...    ...  ...   ...     ...                ...   \n",
       "24386895  1999  17992  2020      2   27  1343  -54.00   Chip Transaction   \n",
       "24386896  1999  17992  2020      2   27  1344   54.00   Chip Transaction   \n",
       "24386897  1999  17992  2020      2   28   463   59.15   Chip Transaction   \n",
       "24386898  1999  17992  2020      2   28  1210   43.12   Chip Transaction   \n",
       "24386899  1999  17992  2020      2   28  1390   45.13   Chip Transaction   \n",
       "\n",
       "                      Merchant           City State      Zip   MCC Errors  \\\n",
       "0          3527213246127876953       La Verne    CA  91750.0  5300     XX   \n",
       "1          -727612092139916043  Monterey Park    CA  91754.0  5411     XX   \n",
       "2          -727612092139916043  Monterey Park    CA  91754.0  5411     XX   \n",
       "3          3414527459579106770  Monterey Park    CA  91754.0  5651     XX   \n",
       "4          5817218446178736267       La Verne    CA  91750.0  5912     XX   \n",
       "...                        ...            ...   ...      ...   ...    ...   \n",
       "24386895  -5162038175624867091      Merrimack    NH   3054.0  5541     XX   \n",
       "24386896  -5162038175624867091      Merrimack    NH   3054.0  5541     XX   \n",
       "24386897   2500998799892805156      Merrimack    NH   3054.0  4121     XX   \n",
       "24386898   2500998799892805156      Merrimack    NH   3054.0  4121     XX   \n",
       "24386899   4751695835751691036      Merrimack    NH   3054.0  5814     XX   \n",
       "\n",
       "          Fraud  \n",
       "0             0  \n",
       "1             0  \n",
       "2             0  \n",
       "3             0  \n",
       "4             0  \n",
       "...         ...  \n",
       "24386895      0  \n",
       "24386896      0  \n",
       "24386897      0  \n",
       "24386898      0  \n",
       "24386899      0  \n",
       "\n",
       "[24386900 rows x 15 columns]"
      ]
     },
     "execution_count": 51,
     "metadata": {},
     "output_type": "execute_result"
    }
   ],
   "source": [
    "data"
   ]
  },
  {
   "cell_type": "code",
   "execution_count": null,
   "id": "e5497f70",
   "metadata": {
    "colab": {
     "base_uri": "https://localhost:8080/"
    },
    "executionInfo": {
     "elapsed": 1538,
     "status": "ok",
     "timestamp": 1747292631782,
     "user": {
      "displayName": "Khánh Hoàng Kim",
      "userId": "06897714357605364137"
     },
     "user_tz": -420
    },
    "id": "e5497f70",
    "outputId": "06454332-973b-4614-f699-a663c848511c"
   },
   "outputs": [
    {
     "name": "stdout",
     "output_type": "stream",
     "text": [
      "Correlation (Card, Fraud) =   6.59%\n",
      "Correlation (Chip, Fraud) =   5.63%\n",
      "Correlation (Errors, Fraud) =   1.81%\n",
      "Correlation (State, Fraud) =  35.92%\n",
      "Correlation (City, Fraud) =  32.47%\n",
      "Correlation (Zip, Fraud) =  14.99%\n",
      "Correlation (MCC, Fraud) =  12.70%\n",
      "Correlation (Merchant, Fraud) =  34.88%\n",
      "Correlation (User, Fraud) =   3.40%\n",
      "Correlation (Day, Fraud) =   0.26%\n",
      "Correlation (Month, Fraud) =   0.23%\n",
      "Correlation (Year, Fraud) =   2.35%\n"
     ]
    }
   ],
   "source": [
    "sparse_factor = 1\n",
    "columns_to_compute_corr =  [COL_CARD, COL_CHIP, COL_ERROR, COL_STATE, COL_CITY, COL_ZIP, COL_MCC, COL_MERCHANT, COL_USER, COL_DAY, COL_MONTH, COL_YEAR]\n",
    "for c1 in columns_to_compute_corr:\n",
    "    for c2 in [COL_FRAUD]:\n",
    "        coff =  100 * cramers_v(data[c1][::sparse_factor], data[c2][::sparse_factor])\n",
    "        print('Correlation ({}, {}) = {:6.2f}%'.format(c1, c2, coff))"
   ]
  },
  {
   "cell_type": "markdown",
   "id": "6dbc4636",
   "metadata": {
    "id": "6dbc4636"
   },
   "source": [
    "# Tương quan của target với các cột numerical"
   ]
  },
  {
   "cell_type": "code",
   "execution_count": null,
   "id": "7a624f77",
   "metadata": {
    "colab": {
     "base_uri": "https://localhost:8080/"
    },
    "executionInfo": {
     "elapsed": 3445,
     "status": "ok",
     "timestamp": 1747292635227,
     "user": {
      "displayName": "Khánh Hoàng Kim",
      "userId": "06897714357605364137"
     },
     "user_tz": -420
    },
    "id": "7a624f77",
    "outputId": "b970ae2d-a843-43ea-8e39-21f4631659ac"
   },
   "outputs": [
    {
     "name": "stdout",
     "output_type": "stream",
     "text": [
      "r_pb (Time) = -0.00 with p_value 0.00\n",
      "r_pb (Amount) = 0.03 with p_value 0.00\n"
     ]
    }
   ],
   "source": [
    "# https://en.wikipedia.org/wiki/Point-biserial_correlation_coefficient\n",
    "# Sử dụng hệ số tương quan Point-biserial (rpb) để kiểm tra xem\n",
    "# các cột số có quan trọng để dự đoán xem một giao dịch có phải là gian lận hay không\n",
    "for col in [COL_TIME, COL_AMOUNT]:\n",
    "    r_pb, p_value = pointbiserialr(data[COL_FRAUD].to_pandas(), data[col].to_pandas())\n",
    "    print('r_pb ({}) = {:3.2f} with p_value {:3.2f}'.format(col, r_pb, p_value))"
   ]
  },
  {
   "cell_type": "markdown",
   "id": "041e3c50",
   "metadata": {
    "id": "041e3c50"
   },
   "source": [
    "## Findings\n",
    "* Time không phải yếu tố dự đoán quan trọng\n",
    "* Amount có 3% tương quan với target"
   ]
  },
  {
   "cell_type": "markdown",
   "id": "f92d58ef",
   "metadata": {
    "id": "f92d58ef"
   },
   "source": [
    "# Dựa vào correlation, chọn 1 tập các trường để dự đoán giao dịch có là gian lận hay không"
   ]
  },
  {
   "cell_type": "code",
   "execution_count": null,
   "id": "a00a7813",
   "metadata": {
    "id": "a00a7813"
   },
   "outputs": [],
   "source": [
    "# Vì mối tương quan chéo giữa Fraud với Day, Month, Year thấp hơn đáng kể,\n",
    "# chúng ta có thể bỏ qua chúng ngay bây giờ và thêm các tính năng này sau.\n",
    "numerical_predictors = [COL_AMOUNT]\n",
    "nominal_predictors = [COL_ERROR, COL_CARD, COL_CHIP, COL_CITY, COL_ZIP, COL_MCC, COL_MERCHANT]\n",
    "\n",
    "predictor_columns = numerical_predictors + nominal_predictors\n",
    "\n",
    "target_column = [COL_FRAUD]"
   ]
  },
  {
   "cell_type": "markdown",
   "id": "9341f5e0",
   "metadata": {
    "id": "9341f5e0"
   },
   "source": [
    "# Xóa các điểm dữ liệu non-fraud trùng lặp"
   ]
  },
  {
   "cell_type": "code",
   "execution_count": null,
   "id": "428c4ac8",
   "metadata": {
    "id": "428c4ac8"
   },
   "outputs": [],
   "source": [
    "# Xoá các điểm dữ liệu trùng lặp\n",
    "fraud_data = data[data[COL_FRAUD] == 1]\n",
    "data = data[data[COL_FRAUD] == 0]\n",
    "data = data.drop_duplicates(subset=nominal_predictors)\n",
    "data = cudf.concat([data, fraud_data])"
   ]
  },
  {
   "cell_type": "code",
   "execution_count": null,
   "id": "14a8bbce",
   "metadata": {
    "colab": {
     "base_uri": "https://localhost:8080/"
    },
    "executionInfo": {
     "elapsed": 18,
     "status": "ok",
     "timestamp": 1747292635539,
     "user": {
      "displayName": "Khánh Hoàng Kim",
      "userId": "06897714357605364137"
     },
     "user_tz": -420
    },
    "id": "14a8bbce",
    "outputId": "889935c3-9f11-411f-c879-6ef5b48396d8"
   },
   "outputs": [
    {
     "data": {
      "text/plain": [
       "Fraud\n",
       "0    98.378669\n",
       "1     1.621331\n",
       "Name: count, dtype: float64"
      ]
     },
     "execution_count": 56,
     "metadata": {},
     "output_type": "execute_result"
    }
   ],
   "source": [
    "100*data[COL_FRAUD].value_counts()/len(data)"
   ]
  },
  {
   "cell_type": "markdown",
   "id": "8bc2ebac",
   "metadata": {
    "id": "8bc2ebac"
   },
   "source": [
    "# Chia dữ liệu\n",
    " * Training   - tất cả dữ liệu trước 2018\n",
    " * Validation - tất cả dữ liệu trong 2018\n",
    " * Test.      - tất cả dữ liệu sau 2018"
   ]
  },
  {
   "cell_type": "code",
   "execution_count": null,
   "id": "97dc748b",
   "metadata": {
    "colab": {
     "base_uri": "https://localhost:8080/"
    },
    "executionInfo": {
     "elapsed": 623,
     "status": "ok",
     "timestamp": 1747292636163,
     "user": {
      "displayName": "Khánh Hoàng Kim",
      "userId": "06897714357605364137"
     },
     "user_tz": -420
    },
    "id": "97dc748b",
    "outputId": "e7619664-400d-4e92-a5bf-ce1a34c8c44d"
   },
   "outputs": [
    {
     "data": {
      "text/plain": [
       "Fraud\n",
       "0    297570\n",
       "1     29757\n",
       "Name: count, dtype: int64"
      ]
     },
     "execution_count": 57,
     "metadata": {},
     "output_type": "execute_result"
    }
   ],
   "source": [
    "if under_sample:\n",
    "    fraud_df = data[data[COL_FRAUD]==1]\n",
    "    non_fraud_df = data[data[COL_FRAUD]==0]\n",
    "    nr_non_fraud_samples = min((len(data) - len(fraud_df)), int(len(fraud_df)/fraud_ratio))\n",
    "    data = cudf.concat([fraud_df, non_fraud_df.sample(nr_non_fraud_samples)])\n",
    "\n",
    "training_idx = data[COL_YEAR] < 2018\n",
    "validation_idx = data[COL_YEAR] == 2018\n",
    "test_idx = data[COL_YEAR] > 2018\n",
    "\n",
    "data[COL_FRAUD].value_counts()"
   ]
  },
  {
   "cell_type": "markdown",
   "id": "cd036929",
   "metadata": {
    "id": "cd036929"
   },
   "source": [
    "# Scale các cột numerical và encode các cột categorical của training data"
   ]
  },
  {
   "cell_type": "code",
   "execution_count": null,
   "id": "2d570cdc",
   "metadata": {
    "id": "2d570cdc"
   },
   "outputs": [],
   "source": [
    "# Vì một số bộ mã hóa mà chúng ta muốn sử dụng không có sẵn trong cuml\n",
    "# nên chúng ta có thể sử dụng pandas ngay bây giờ.\n",
    "# Chuyển training data thành pandas để tiền xử lý\n",
    "pdf_training = data[training_idx].to_pandas()[predictor_columns + target_column]"
   ]
  },
  {
   "cell_type": "code",
   "execution_count": null,
   "id": "d135cc8a",
   "metadata": {
    "colab": {
     "base_uri": "https://localhost:8080/"
    },
    "executionInfo": {
     "elapsed": 27,
     "status": "ok",
     "timestamp": 1747292636407,
     "user": {
      "displayName": "Khánh Hoàng Kim",
      "userId": "06897714357605364137"
     },
     "user_tz": -420
    },
    "id": "d135cc8a",
    "outputId": "e4be19ed-e2b8-4581-9b29-a47519aeca36"
   },
   "outputs": [
    {
     "name": "stdout",
     "output_type": "stream",
     "text": [
      "Errors 22\n",
      "Card 6060\n",
      "Chip 3\n",
      "City 11355\n",
      "Zip 22778\n",
      "MCC 109\n",
      "Merchant 45218\n"
     ]
    }
   ],
   "source": [
    "# Sử dụng one-hot encoding cho các cột <= 8 categories, và binary encoding cho các cột nhiều categories hơn\n",
    "columns_for_binary_encoding = []\n",
    "columns_for_onehot_encoding = []\n",
    "for col in nominal_predictors:\n",
    "    print(col, len(data[col].unique()))\n",
    "    if len(data[col].unique()) <= 8:\n",
    "        columns_for_onehot_encoding.append(col)\n",
    "    else:\n",
    "        columns_for_binary_encoding.append(col)"
   ]
  },
  {
   "cell_type": "code",
   "execution_count": null,
   "id": "ee6b77fc",
   "metadata": {
    "id": "ee6b77fc"
   },
   "outputs": [],
   "source": [
    "# Đánh dấu cột categorical là \"category\"\n",
    "pdf_training[nominal_predictors] = pdf_training[nominal_predictors].astype(\"category\")"
   ]
  },
  {
   "cell_type": "code",
   "execution_count": null,
   "id": "49eb57f5",
   "metadata": {
    "id": "49eb57f5"
   },
   "outputs": [],
   "source": [
    "# encoders để encode các cột categorical và scalers để scale các cột numerical\n",
    "\n",
    "bin_encoder = Pipeline(\n",
    "    steps=[\n",
    "        (\"binary\", BinaryEncoder(handle_missing='value', handle_unknown='value'))\n",
    "    ]\n",
    ")\n",
    "onehot_encoder = Pipeline(\n",
    "    steps=[\n",
    "        (\"onehot\", OneHotEncoder())\n",
    "    ]\n",
    ")\n",
    "std_scaler = Pipeline(\n",
    "    steps=[(\"imputer\", SimpleImputer(strategy=\"median\")), (\"standard\", StandardScaler())],\n",
    ")\n",
    "robust_scaler = Pipeline(\n",
    "    steps=[(\"imputer\", SimpleImputer(strategy=\"median\")), (\"robust\", RobustScaler())],\n",
    ")"
   ]
  },
  {
   "cell_type": "code",
   "execution_count": null,
   "id": "613db861",
   "metadata": {
    "id": "613db861"
   },
   "outputs": [],
   "source": [
    "# Kết hợp encoders và scalers trong cột transformer\n",
    "transformer = ColumnTransformer(\n",
    "    transformers=[\n",
    "        (\"binary\", bin_encoder, columns_for_binary_encoding),\n",
    "        (\"onehot\", onehot_encoder, columns_for_onehot_encoding),\n",
    "        (\"robust\", robust_scaler, [COL_AMOUNT]),\n",
    "    ], remainder=\"passthrough\"\n",
    ")"
   ]
  },
  {
   "cell_type": "code",
   "execution_count": null,
   "id": "de594998",
   "metadata": {
    "id": "de594998"
   },
   "outputs": [],
   "source": [
    "# Fit cột transformer với training data\n",
    "\n",
    "pd.set_option('future.no_silent_downcasting', True)\n",
    "transformer = transformer.fit(pdf_training[predictor_columns])"
   ]
  },
  {
   "cell_type": "code",
   "execution_count": null,
   "id": "e3f88ece",
   "metadata": {
    "id": "e3f88ece"
   },
   "outputs": [],
   "source": [
    "# biến đổi các tên cột\n",
    "columns_of_transformed_data = list(\n",
    "    map(lambda name: name.split('__')[1],\n",
    "        list(transformer.get_feature_names_out(predictor_columns))))"
   ]
  },
  {
   "cell_type": "code",
   "execution_count": null,
   "id": "yQ8p-Sa_cbU_",
   "metadata": {
    "colab": {
     "base_uri": "https://localhost:8080/"
    },
    "executionInfo": {
     "elapsed": 4,
     "status": "ok",
     "timestamp": 1747292639192,
     "user": {
      "displayName": "Khánh Hoàng Kim",
      "userId": "06897714357605364137"
     },
     "user_tz": -420
    },
    "id": "yQ8p-Sa_cbU_",
    "outputId": "3e7ac03e-31c7-4a01-fddc-bfb442f04412"
   },
   "outputs": [
    {
     "data": {
      "text/plain": [
       "['Errors_0',\n",
       " 'Errors_1',\n",
       " 'Errors_2',\n",
       " 'Errors_3',\n",
       " 'Errors_4',\n",
       " 'Card_0',\n",
       " 'Card_1',\n",
       " 'Card_2',\n",
       " 'Card_3',\n",
       " 'Card_4',\n",
       " 'Card_5',\n",
       " 'Card_6',\n",
       " 'Card_7',\n",
       " 'Card_8',\n",
       " 'Card_9',\n",
       " 'Card_10',\n",
       " 'Card_11',\n",
       " 'Card_12',\n",
       " 'City_0',\n",
       " 'City_1',\n",
       " 'City_2',\n",
       " 'City_3',\n",
       " 'City_4',\n",
       " 'City_5',\n",
       " 'City_6',\n",
       " 'City_7',\n",
       " 'City_8',\n",
       " 'City_9',\n",
       " 'City_10',\n",
       " 'City_11',\n",
       " 'City_12',\n",
       " 'City_13',\n",
       " 'Zip_0',\n",
       " 'Zip_1',\n",
       " 'Zip_2',\n",
       " 'Zip_3',\n",
       " 'Zip_4',\n",
       " 'Zip_5',\n",
       " 'Zip_6',\n",
       " 'Zip_7',\n",
       " 'Zip_8',\n",
       " 'Zip_9',\n",
       " 'Zip_10',\n",
       " 'Zip_11',\n",
       " 'Zip_12',\n",
       " 'Zip_13',\n",
       " 'Zip_14',\n",
       " 'MCC_0',\n",
       " 'MCC_1',\n",
       " 'MCC_2',\n",
       " 'MCC_3',\n",
       " 'MCC_4',\n",
       " 'MCC_5',\n",
       " 'MCC_6',\n",
       " 'Merchant_0',\n",
       " 'Merchant_1',\n",
       " 'Merchant_2',\n",
       " 'Merchant_3',\n",
       " 'Merchant_4',\n",
       " 'Merchant_5',\n",
       " 'Merchant_6',\n",
       " 'Merchant_7',\n",
       " 'Merchant_8',\n",
       " 'Merchant_9',\n",
       " 'Merchant_10',\n",
       " 'Merchant_11',\n",
       " 'Merchant_12',\n",
       " 'Merchant_13',\n",
       " 'Merchant_14',\n",
       " 'Merchant_15',\n",
       " 'Chip_Chip Transaction',\n",
       " 'Chip_Online Transaction',\n",
       " 'Chip_Swipe Transaction',\n",
       " 'Amount']"
      ]
     },
     "execution_count": 65,
     "metadata": {},
     "output_type": "execute_result"
    }
   ],
   "source": [
    "columns_of_transformed_data"
   ]
  },
  {
   "cell_type": "code",
   "execution_count": null,
   "id": "2bdc0acc",
   "metadata": {
    "id": "2bdc0acc"
   },
   "outputs": [],
   "source": [
    "# kiểu dữ liệu của các cột được biến đổi\n",
    "type_mapping = {}\n",
    "for col in columns_of_transformed_data:\n",
    "    if col.split('_')[0] in nominal_predictors:\n",
    "        type_mapping[col] = 'int8'\n",
    "    elif col in numerical_predictors:\n",
    "        type_mapping[col] = 'float'\n",
    "    elif col in target_column:\n",
    "        type_mapping[col] = data.dtypes.to_dict()[col]"
   ]
  },
  {
   "cell_type": "code",
   "execution_count": null,
   "id": "76332e33",
   "metadata": {
    "id": "76332e33"
   },
   "outputs": [],
   "source": [
    "# biến đổi training data\n",
    "preprocessed_training_data = transformer.transform(pdf_training[predictor_columns])\n",
    "\n",
    "# Convert dữ liệu được biến đổi thành panda DataFrame\n",
    "preprocessed_training_data = pd.DataFrame(\n",
    "    preprocessed_training_data, columns=columns_of_transformed_data)\n",
    "# Copy cột target\n",
    "preprocessed_training_data[COL_FRAUD] = pdf_training[COL_FRAUD].values\n",
    "preprocessed_training_data = preprocessed_training_data.astype(type_mapping)"
   ]
  },
  {
   "cell_type": "code",
   "execution_count": null,
   "id": "078b4f3f",
   "metadata": {
    "id": "078b4f3f"
   },
   "outputs": [],
   "source": [
    "# Lưu lại transformer\n",
    "\n",
    "with open(os.path.join(tabformer_base_path, 'preprocessor.pkl'),'wb') as f:\n",
    "    pickle.dump(transformer, f)"
   ]
  },
  {
   "cell_type": "markdown",
   "id": "48e46229",
   "metadata": {
    "id": "48e46229"
   },
   "source": [
    "# Lưu training data đã được biến đổi cho huấn luyện XGBoost"
   ]
  },
  {
   "cell_type": "code",
   "execution_count": null,
   "id": "e3362673",
   "metadata": {
    "id": "e3362673"
   },
   "outputs": [],
   "source": [
    "with open(os.path.join(tabformer_base_path, 'preprocessor.pkl'),'rb') as f:\n",
    "    loaded_transformer = pickle.load(f)"
   ]
  },
  {
   "cell_type": "code",
   "execution_count": null,
   "id": "47f6663e",
   "metadata": {
    "id": "47f6663e"
   },
   "outputs": [],
   "source": [
    "# Biến đổi test data sử dụng transformer fitted trên training data\n",
    "pdf_test = data[test_idx].to_pandas()[predictor_columns + target_column]\n",
    "pdf_test[nominal_predictors] = pdf_test[nominal_predictors].astype(\"category\")\n",
    "\n",
    "preprocessed_test_data = loaded_transformer.transform(pdf_test[predictor_columns])\n",
    "preprocessed_test_data = pd.DataFrame(preprocessed_test_data, columns=columns_of_transformed_data)\n",
    "\n",
    "# Copy cột target\n",
    "preprocessed_test_data[COL_FRAUD] = pdf_test[COL_FRAUD].values\n",
    "preprocessed_test_data = preprocessed_test_data.astype(type_mapping)"
   ]
  },
  {
   "cell_type": "code",
   "execution_count": null,
   "id": "0ce80a1b",
   "metadata": {
    "id": "0ce80a1b"
   },
   "outputs": [],
   "source": [
    "# Biến đổi validation data sử dụng transformer fitted trên training data\n",
    "pdf_validation = data[validation_idx].to_pandas()[predictor_columns + target_column]\n",
    "pdf_validation[nominal_predictors] = pdf_validation[nominal_predictors].astype(\"category\")\n",
    "\n",
    "preprocessed_validation_data = loaded_transformer.transform(pdf_validation[predictor_columns])\n",
    "preprocessed_validation_data = pd.DataFrame(preprocessed_validation_data, columns=columns_of_transformed_data)\n",
    "\n",
    "# Copy cột target\n",
    "preprocessed_validation_data[COL_FRAUD] = pdf_validation[COL_FRAUD].values\n",
    "preprocessed_validation_data = preprocessed_validation_data.astype(type_mapping)"
   ]
  },
  {
   "cell_type": "markdown",
   "id": "cb2ca66b-d3dc-4f67-9754-b90bbea6e286",
   "metadata": {
    "id": "cb2ca66b-d3dc-4f67-9754-b90bbea6e286"
   },
   "source": [
    "# Viết ra dữ liệu cho XGB"
   ]
  },
  {
   "cell_type": "code",
   "execution_count": null,
   "id": "89c16cfb-0bd4-4efb-a610-f3ae7445d96e",
   "metadata": {
    "id": "89c16cfb-0bd4-4efb-a610-f3ae7445d96e"
   },
   "outputs": [],
   "source": [
    "# Training data\n",
    "out_path = os.path.join(tabformer_xgb, 'training.csv')\n",
    "if not os.path.exists(os.path.dirname(out_path)):\n",
    "  os.makedirs(os.path.dirname(out_path))\n",
    "preprocessed_training_data.to_csv(out_path, header=True, index=False, columns=columns_of_transformed_data + target_column)\n",
    "# preprocessed_training_data.to_parquet(out_path, index=False, compression='gzip')"
   ]
  },
  {
   "cell_type": "code",
   "execution_count": null,
   "id": "f3ef6b19-062b-42d5-8caa-6f6011648b4a",
   "metadata": {
    "id": "f3ef6b19-062b-42d5-8caa-6f6011648b4a"
   },
   "outputs": [],
   "source": [
    "# validation data\n",
    "out_path = os.path.join(tabformer_xgb, 'validation.csv')\n",
    "if not os.path.exists(os.path.dirname(out_path)):\n",
    "  os.makedirs(os.path.dirname(out_path))\n",
    "preprocessed_validation_data.to_csv(out_path, header=True, index=False, columns=columns_of_transformed_data + target_column)\n",
    "# preprocessed_validation_data.to_parquet(out_path, index=False, compression='gzip')"
   ]
  },
  {
   "cell_type": "code",
   "execution_count": null,
   "id": "cdc8e3b9-841d-49f3-b3ae-3017a04605e3",
   "metadata": {
    "id": "cdc8e3b9-841d-49f3-b3ae-3017a04605e3"
   },
   "outputs": [],
   "source": [
    "# test data\n",
    "out_path = os.path.join(tabformer_xgb, 'test.csv')\n",
    "preprocessed_test_data.to_csv(out_path, header=True, index=False, columns=columns_of_transformed_data + target_column)\n",
    "# preprocessed_test_data.to_parquet(out_path, index=False, compression='gzip')"
   ]
  },
  {
   "cell_type": "code",
   "execution_count": null,
   "id": "67fb32b0",
   "metadata": {
    "id": "67fb32b0"
   },
   "outputs": [],
   "source": [
    "# Viết dữ liệu thử nghiệm chưa chuyển đổi chỉ có các cột dự đoán (được đổi tên) và mục tiêu\n",
    "out_path = os.path.join(tabformer_xgb, 'untransformed_test.csv')\n",
    "pdf_test.to_csv(out_path, header=True, index=False)"
   ]
  },
  {
   "cell_type": "code",
   "execution_count": null,
   "id": "2d6cb604",
   "metadata": {
    "id": "2d6cb604"
   },
   "outputs": [],
   "source": [
    "# Xóa dataFrames không cần thiết nữa\n",
    "del(pdf_training)\n",
    "del(pdf_validation)\n",
    "del(pdf_test)\n",
    "del(preprocessed_training_data)\n",
    "del(preprocessed_validation_data)\n",
    "del(preprocessed_test_data)"
   ]
  },
  {
   "cell_type": "markdown",
   "id": "3bfbfd83",
   "metadata": {
    "id": "3bfbfd83"
   },
   "source": [
    "# Dữ liệu GNN"
   ]
  },
  {
   "cell_type": "markdown",
   "id": "98e518c8",
   "metadata": {
    "id": "98e518c8"
   },
   "source": [
    "## Cài đặt các ID đỉnh\n",
    "Để tạo 1 graph, các đỉnh khác nhau cần được chỉ định ID đỉnh duy nhất. Hơn nữa, các ID cần liên tiếp nhau và phải dương.\n",
    "\n",
    "Có 3 nhóm node: Transactions, Users, và Merchants.\n",
    "\n",
    "Các ID này không được sử dụng trong training, chỉ sử dụng để xử lý graph."
   ]
  },
  {
   "cell_type": "code",
   "execution_count": null,
   "id": "194a47d8",
   "metadata": {
    "id": "194a47d8"
   },
   "outputs": [],
   "source": [
    "# Sử dụng training data giống với sử dụng cho XGBoost\n",
    "data = data[training_idx]"
   ]
  },
  {
   "cell_type": "code",
   "execution_count": null,
   "id": "0ba0cb6b",
   "metadata": {
    "id": "0ba0cb6b"
   },
   "outputs": [],
   "source": [
    "# rất nhiều quá trình đã xảy ra, sắp xếp dữ liệu và thiết lập lại chỉ mục\n",
    "data = data.sort_values(by=[COL_YEAR, COL_MONTH, COL_DAY, COL_TIME], ascending=False)\n",
    "data.reset_index(inplace=True, drop=True)"
   ]
  },
  {
   "cell_type": "code",
   "execution_count": null,
   "id": "2a75c92e",
   "metadata": {
    "id": "2a75c92e"
   },
   "outputs": [],
   "source": [
    "# Mỗi transaction có ID duy nhất\n",
    "COL_TRANSACTION_ID = 'Tx_ID'\n",
    "COL_MERCHANT_ID = 'Merchant_ID'\n",
    "COL_USER_ID = 'User_ID'\n",
    "\n",
    "# Số transaction giống với size của list, và là giá trị index\n",
    "data[COL_TRANSACTION_ID] = data.index"
   ]
  },
  {
   "cell_type": "code",
   "execution_count": null,
   "id": "472ea57c",
   "metadata": {
    "id": "472ea57c"
   },
   "outputs": [],
   "source": [
    "# Lấy transaction ID lớn nhất để tính merchant ID đầu tiên\n",
    "max_tx_id = data[COL_TRANSACTION_ID].max()"
   ]
  },
  {
   "cell_type": "code",
   "execution_count": null,
   "id": "7e8ef04b",
   "metadata": {
    "colab": {
     "base_uri": "https://localhost:8080/"
    },
    "executionInfo": {
     "elapsed": 115,
     "status": "ok",
     "timestamp": 1747292647237,
     "user": {
      "displayName": "Khánh Hoàng Kim",
      "userId": "06897714357605364137"
     },
     "user_tz": -420
    },
    "id": "7e8ef04b",
    "outputId": "529bf94f-699a-4930-c7bf-23f961078491"
   },
   "outputs": [
    {
     "data": {
      "text/plain": [
       "(np.int64(280988), '999657473293735')"
      ]
     },
     "execution_count": 81,
     "metadata": {},
     "output_type": "execute_result"
    }
   ],
   "source": [
    "# Convert chuỗi Merchant thành các số nguyên liên tiếp\n",
    "merchant_name_to_id = dict((v, k) for k, v in data[COL_MERCHANT].unique().to_dict().items())\n",
    "data[COL_MERCHANT_ID] = data[COL_MERCHANT].map(merchant_name_to_id) + (max_tx_id + 1)\n",
    "data[COL_MERCHANT_ID].min(), data[COL_MERCHANT].max()"
   ]
  },
  {
   "cell_type": "code",
   "execution_count": null,
   "id": "6937df18",
   "metadata": {
    "id": "6937df18"
   },
   "outputs": [],
   "source": [
    "# Lấy merchant ID lớn nhất để tính user ID đầu tiên\n",
    "max_merchant_id = data[COL_MERCHANT_ID].max()"
   ]
  },
  {
   "cell_type": "markdown",
   "id": "b153352c",
   "metadata": {
    "id": "b153352c"
   },
   "source": [
    "NOTE: Các cột 'User' và 'Card' của dữ liệu ban đầu được sử dụng để tạo cột 'Card' đã cập nhật. Bạn có thể dùng user hoặc card như các node."
   ]
  },
  {
   "cell_type": "code",
   "execution_count": null,
   "id": "030a2335",
   "metadata": {
    "colab": {
     "base_uri": "https://localhost:8080/"
    },
    "executionInfo": {
     "elapsed": 16,
     "status": "ok",
     "timestamp": 1747292647266,
     "user": {
      "displayName": "Khánh Hoàng Kim",
      "userId": "06897714357605364137"
     },
     "user_tz": -420
    },
    "id": "030a2335",
    "outputId": "976d0179-a4af-4f51-d8c5-b3a7629580b9"
   },
   "outputs": [
    {
     "data": {
      "text/plain": [
       "(np.int64(322103), np.int64(326877))"
      ]
     },
     "execution_count": 83,
     "metadata": {},
     "output_type": "execute_result"
    }
   ],
   "source": [
    "# Convert Card thành các ID liên tiếp\n",
    "id_to_consecutive_id = dict((v, k) for k, v in data[COL_CARD].unique().to_dict().items())\n",
    "data[COL_USER_ID] = data[COL_CARD].map(id_to_consecutive_id) + max_merchant_id + 1\n",
    "data[COL_USER_ID].min(), data[COL_USER_ID].max()\n",
    "\n",
    "# id_to_consecutive_id = dict((v, k) for k, v in data[COL_USER].unique().to_dict().items())\n",
    "# data[COL_USER_ID] = data[COL_USER].map(id_to_consecutive_id) + max_merchant_id + 1\n",
    "# data[COL_USER_ID].min(), data[COL_USER].max()"
   ]
  },
  {
   "cell_type": "code",
   "execution_count": null,
   "id": "28858422",
   "metadata": {
    "id": "28858422"
   },
   "outputs": [],
   "source": [
    "# Lưu user ID lớn nhất\n",
    "max_user_id = data[COL_USER_ID].max()"
   ]
  },
  {
   "cell_type": "code",
   "execution_count": null,
   "id": "903e5115",
   "metadata": {
    "colab": {
     "base_uri": "https://localhost:8080/"
    },
    "executionInfo": {
     "elapsed": 28,
     "status": "ok",
     "timestamp": 1747292647316,
     "user": {
      "displayName": "Khánh Hoàng Kim",
      "userId": "06897714357605364137"
     },
     "user_tz": -420
    },
    "id": "903e5115",
    "outputId": "18218c92-732b-4b1e-8356-65b25f45e377"
   },
   "outputs": [
    {
     "name": "stdout",
     "output_type": "stream",
     "text": [
      "Transaction ID range (np.int64(0), np.int64(280987))\n",
      "Merchant ID range (np.int64(280988), np.int64(322102))\n",
      "User ID range (np.int64(322103), np.int64(326877))\n"
     ]
    }
   ],
   "source": [
    "# Kiểm tra transaction, merchant và user ids là liên tiếp\n",
    "id_range = data[COL_TRANSACTION_ID].min(), data[COL_TRANSACTION_ID].max()\n",
    "print(f'Transaction ID range {id_range}')\n",
    "id_range = data[COL_MERCHANT_ID].min(), data[COL_MERCHANT_ID].max()\n",
    "print(f'Merchant ID range {id_range}')\n",
    "id_range = data[COL_USER_ID].min(), data[COL_USER_ID].max()\n",
    "print(f'User ID range {id_range}')"
   ]
  },
  {
   "cell_type": "code",
   "execution_count": null,
   "id": "f2d0dfde",
   "metadata": {
    "id": "f2d0dfde"
   },
   "outputs": [],
   "source": [
    "assert( data[COL_TRANSACTION_ID].max() == data[COL_MERCHANT_ID].min() - 1)\n",
    "assert( data[COL_MERCHANT_ID].max() == data[COL_USER_ID].min() - 1)\n",
    "assert(len(data[COL_USER_ID].unique()) == (data[COL_USER_ID].max() - data[COL_USER_ID].min() + 1))\n",
    "assert(len(data[COL_MERCHANT_ID].unique()) == (data[COL_MERCHANT_ID].max() - data[COL_MERCHANT_ID].min() + 1))\n",
    "assert(len(data[COL_TRANSACTION_ID].unique()) == (data[COL_TRANSACTION_ID].max() - data[COL_TRANSACTION_ID].min() + 1))"
   ]
  },
  {
   "cell_type": "markdown",
   "id": "0d9c3df3-a5be-4899-8bf9-6152aca114c7",
   "metadata": {
    "id": "0d9c3df3-a5be-4899-8bf9-6152aca114c7"
   },
   "source": [
    "## Viết ra dữ liệu cho GNN"
   ]
  },
  {
   "cell_type": "markdown",
   "id": "c2b86862-d129-4ece-a60d-dc798f3a68b5",
   "metadata": {
    "id": "c2b86862-d129-4ece-a60d-dc798f3a68b5"
   },
   "source": [
    "### Create the Graph Edge Data file\n",
    "The file is in COO format"
   ]
  },
  {
   "cell_type": "code",
   "execution_count": null,
   "id": "b288c5a7-20dd-40ff-b0eb-7a5895bcc464",
   "metadata": {
    "id": "b288c5a7-20dd-40ff-b0eb-7a5895bcc464"
   },
   "outputs": [],
   "source": [
    "COL_GRAPH_SRC = 'src'\n",
    "COL_GRAPH_DST = 'dst'\n",
    "COL_GRAPH_WEIGHT = 'wgt'\n",
    "\n",
    "# User tới Transactions\n",
    "U_2_T = cudf.DataFrame()\n",
    "U_2_T[COL_GRAPH_SRC] = data[COL_USER_ID]\n",
    "U_2_T[COL_GRAPH_DST] = data[COL_TRANSACTION_ID]\n",
    "if make_undirected:\n",
    "  T_2_U = cudf.DataFrame()\n",
    "  T_2_U[COL_GRAPH_SRC] = data[COL_TRANSACTION_ID]\n",
    "  T_2_U[COL_GRAPH_DST] = data[COL_USER_ID]\n",
    "  U_2_T = cudf.concat([U_2_T, T_2_U])\n",
    "  del T_2_U"
   ]
  },
  {
   "cell_type": "code",
   "execution_count": null,
   "id": "a970747d-07a2-43b3-b39c-19a0196fa5b1",
   "metadata": {
    "id": "a970747d-07a2-43b3-b39c-19a0196fa5b1"
   },
   "outputs": [],
   "source": [
    "# Transactions tới Merchants\n",
    "T_2_M = cudf.DataFrame()\n",
    "T_2_M[COL_GRAPH_SRC] = data[COL_MERCHANT_ID]\n",
    "T_2_M[COL_GRAPH_DST] = data[COL_TRANSACTION_ID]\n",
    "\n",
    "if make_undirected:\n",
    "  M_2_T = cudf.DataFrame()\n",
    "  M_2_T[COL_GRAPH_SRC] = data[COL_TRANSACTION_ID]\n",
    "  M_2_T[COL_GRAPH_DST] = data[COL_MERCHANT_ID]\n",
    "  T_2_M = cudf.concat([T_2_M, M_2_T])\n",
    "  del M_2_T"
   ]
  },
  {
   "cell_type": "code",
   "execution_count": null,
   "id": "80e704fd-ae9f-45b1-ad56-bdc0b743d09f",
   "metadata": {
    "colab": {
     "base_uri": "https://localhost:8080/"
    },
    "executionInfo": {
     "elapsed": 18,
     "status": "ok",
     "timestamp": 1747292647355,
     "user": {
      "displayName": "Khánh Hoàng Kim",
      "userId": "06897714357605364137"
     },
     "user_tz": -420
    },
    "id": "80e704fd-ae9f-45b1-ad56-bdc0b743d09f",
    "outputId": "ae7dd724-ad66-4e9f-d713-728441981da5"
   },
   "outputs": [
    {
     "data": {
      "text/plain": [
       "1123952"
      ]
     },
     "execution_count": 89,
     "metadata": {},
     "output_type": "execute_result"
    }
   ],
   "source": [
    "Edge = cudf.concat([U_2_T, T_2_M])\n",
    "Edge[COL_GRAPH_WEIGHT] = 0.0\n",
    "len(Edge)"
   ]
  },
  {
   "cell_type": "code",
   "execution_count": null,
   "id": "c74572f6-ff6e-4c8f-803e-0ae2c0587c58",
   "metadata": {
    "id": "c74572f6-ff6e-4c8f-803e-0ae2c0587c58"
   },
   "outputs": [],
   "source": [
    "# viết dữ liệu\n",
    "out_path = os.path.join (tabformer_gnn, 'edges.csv')\n",
    "\n",
    "if not os.path.exists(os.path.dirname(out_path)):\n",
    "  os.makedirs(os.path.dirname(out_path))\n",
    "\n",
    "Edge.to_csv(out_path, header=False, index=False)"
   ]
  },
  {
   "cell_type": "code",
   "execution_count": null,
   "id": "3dd3ff45-3796-4069-9e3a-587743c4e1e0",
   "metadata": {
    "id": "3dd3ff45-3796-4069-9e3a-587743c4e1e0"
   },
   "outputs": [],
   "source": [
    "del(Edge)\n",
    "del(U_2_T)\n",
    "del(T_2_M)"
   ]
  },
  {
   "cell_type": "markdown",
   "id": "ed00c481-1737-4152-9d23-f3cb24f2adcd",
   "metadata": {
    "id": "ed00c481-1737-4152-9d23-f3cb24f2adcd"
   },
   "source": [
    "## Dữ liệu đặc trưng\n",
    "Dữ liệu đặc trưng cần được sắp xếp theo thứ tự, trong đó chỉ số hàng tương ứng với ID nút\n",
    "\n",
    "Dữ liệu bao gồm 3 tập đặc trưng:\n",
    "* Transactions\n",
    "* Users\n",
    "* Merchants"
   ]
  },
  {
   "cell_type": "markdown",
   "id": "805c9d23",
   "metadata": {
    "id": "805c9d23"
   },
   "source": [
    "### Để có các vector đặc trưng của các nút Transaction, biến đổi training data sử dụng pre-fitted transformer"
   ]
  },
  {
   "cell_type": "code",
   "execution_count": null,
   "id": "584fe9bf",
   "metadata": {
    "id": "584fe9bf"
   },
   "outputs": [],
   "source": [
    "node_feature_df = pd.DataFrame(\n",
    "    loaded_transformer.transform(\n",
    "        data[predictor_columns].to_pandas()\n",
    "        ),\n",
    "    columns=columns_of_transformed_data).astype(type_mapping)\n",
    "\n",
    "node_feature_df[COL_FRAUD] = data[COL_FRAUD].to_pandas()"
   ]
  },
  {
   "cell_type": "markdown",
   "id": "55aa8f86",
   "metadata": {
    "id": "55aa8f86"
   },
   "source": [
    "### Đối với các nút liên kết với merchant và user, hãy thêm các vectơ đặc trưng bằng không"
   ]
  },
  {
   "cell_type": "code",
   "execution_count": null,
   "id": "b35f9f5b",
   "metadata": {
    "id": "b35f9f5b"
   },
   "outputs": [],
   "source": [
    "# Số lượng nút cho users và merchants\n",
    "nr_users_and_merchant_nodes = max_user_id - max_tx_id"
   ]
  },
  {
   "cell_type": "code",
   "execution_count": null,
   "id": "b5d312bd",
   "metadata": {
    "id": "b5d312bd"
   },
   "outputs": [],
   "source": [
    "if not spread_features:\n",
    "    # Tạo vector đặc trưng 0 cho mỗi nút user và merchant\n",
    "    empty_feature_df = cudf.DataFrame(\n",
    "        columns=columns_of_transformed_data + target_column,\n",
    "        dtype='int8',\n",
    "        index=range(nr_users_and_merchant_nodes)\n",
    "    )\n",
    "    empty_feature_df = empty_feature_df.fillna(0)\n",
    "    empty_feature_df=empty_feature_df.astype(type_mapping)"
   ]
  },
  {
   "cell_type": "code",
   "execution_count": null,
   "id": "a72d3ea5-e04f-4af1-a0e0-09964555c1ed",
   "metadata": {
    "id": "a72d3ea5-e04f-4af1-a0e0-09964555c1ed"
   },
   "outputs": [],
   "source": [
    "if not spread_features:\n",
    "    # Concatenate các đặc trưng transaction theo sau là các đặc trưng dành cho nút merchants và user\n",
    "    node_feature_df = pd.concat([node_feature_df, empty_feature_df.to_pandas()]).astype(type_mapping)"
   ]
  },
  {
   "cell_type": "code",
   "execution_count": null,
   "id": "a364d173",
   "metadata": {
    "id": "a364d173"
   },
   "outputs": [],
   "source": [
    "# Các cột cụ thể của User\n",
    "if spread_features:\n",
    "    user_specific_columns = [COL_CARD, COL_CHIP]\n",
    "    user_specific_columns_of_transformed_data = []\n",
    "\n",
    "    for col in node_feature_df.columns:\n",
    "        if col.split('_')[0] in user_specific_columns:\n",
    "            user_specific_columns_of_transformed_data.append(col)"
   ]
  },
  {
   "cell_type": "code",
   "execution_count": null,
   "id": "92d88c2f",
   "metadata": {
    "id": "92d88c2f"
   },
   "outputs": [],
   "source": [
    "# Các cột cụ thể của Merchant\n",
    "if spread_features:\n",
    "    merchant_specific_columns = [COL_MERCHANT, COL_CITY, COL_ZIP, COL_MCC]\n",
    "    merchant_specific_columns_of_transformed_data = []\n",
    "\n",
    "    for col in node_feature_df.columns:\n",
    "        if col.split('_')[0] in merchant_specific_columns:\n",
    "            merchant_specific_columns_of_transformed_data.append(col)"
   ]
  },
  {
   "cell_type": "code",
   "execution_count": null,
   "id": "f62755ae",
   "metadata": {
    "id": "f62755ae"
   },
   "outputs": [],
   "source": [
    "# Các cột cụ thể của Transaction\n",
    "if spread_features:\n",
    "    transaction_specific_columns = list(\n",
    "        set(numerical_predictors).union(nominal_predictors)\n",
    "        - set(user_specific_columns).union(merchant_specific_columns))\n",
    "    transaction_specific_columns_of_transformed_data = []\n",
    "\n",
    "    for col in node_feature_df.columns:\n",
    "        if col.split('_')[0] in transaction_specific_columns:\n",
    "            transaction_specific_columns_of_transformed_data.append(col)"
   ]
  },
  {
   "cell_type": "markdown",
   "id": "d12061da",
   "metadata": {
    "id": "d12061da"
   },
   "source": [
    "### Xây dựng vector đặc trưng cho merchants"
   ]
  },
  {
   "cell_type": "code",
   "execution_count": null,
   "id": "de484a27",
   "metadata": {
    "id": "de484a27"
   },
   "outputs": [],
   "source": [
    "if spread_features:\n",
    "    # Tìm chỉ số của các thương gia duy nhất\n",
    "    idx_df = cudf.DataFrame()\n",
    "    idx_df[COL_MERCHANT_ID] =  data[COL_MERCHANT_ID]\n",
    "    idx_df = idx_df.sort_values(by=COL_MERCHANT_ID)\n",
    "    idx_df = idx_df.drop_duplicates(subset=COL_MERCHANT_ID)\n",
    "    assert((data.iloc[idx_df.index][COL_MERCHANT_ID] == idx_df[COL_MERCHANT_ID]).all())"
   ]
  },
  {
   "cell_type": "code",
   "execution_count": null,
   "id": "5be790eb",
   "metadata": {
    "id": "5be790eb"
   },
   "outputs": [],
   "source": [
    "if spread_features:\n",
    "    # Copy các cột cụ thể của merchant và cho phần còn lại là 0\n",
    "    merchant_specific_feature_df = node_feature_df.iloc[idx_df.index.to_numpy()]\n",
    "    merchant_specific_feature_df.\\\n",
    "    loc[:,\n",
    "        transaction_specific_columns_of_transformed_data +\n",
    "          user_specific_columns_of_transformed_data] = 0.0\n"
   ]
  },
  {
   "cell_type": "code",
   "execution_count": null,
   "id": "576091c6",
   "metadata": {
    "id": "576091c6"
   },
   "outputs": [],
   "source": [
    "if spread_features:\n",
    "    # Tìm chỉ số của các users duy nhất\n",
    "    idx_df = cudf.DataFrame()\n",
    "    idx_df[COL_USER_ID] = data[COL_USER_ID]\n",
    "    idx_df = idx_df.sort_values(by=COL_USER_ID)\n",
    "    idx_df = idx_df.drop_duplicates(subset=COL_USER_ID)\n",
    "    assert((data.iloc[idx_df.index][COL_USER_ID] == idx_df[COL_USER_ID]).all())"
   ]
  },
  {
   "cell_type": "code",
   "execution_count": null,
   "id": "aec23ee5",
   "metadata": {
    "id": "aec23ee5"
   },
   "outputs": [],
   "source": [
    "if spread_features:\n",
    "    # Copy các cột cụ thể của user và cho phần còn lại là 0\n",
    "    user_specific_feature_df = node_feature_df.iloc[idx_df.index.to_numpy()]\n",
    "    user_specific_feature_df.\\\n",
    "    loc[:,\n",
    "        transaction_specific_columns_of_transformed_data +\n",
    "          merchant_specific_columns_of_transformed_data] = 0.0"
   ]
  },
  {
   "cell_type": "code",
   "execution_count": null,
   "id": "8296a341",
   "metadata": {
    "id": "8296a341"
   },
   "outputs": [],
   "source": [
    "# Concatenate các đặc trưng của nút user và merchant\n",
    "if spread_features:\n",
    "\n",
    "    node_feature_df[merchant_specific_columns_of_transformed_data] = 0.0\n",
    "    node_feature_df[user_specific_columns_of_transformed_data] = 0.0\n",
    "    node_feature_df = pd.concat(\n",
    "        [node_feature_df, merchant_specific_feature_df, user_specific_feature_df]\n",
    "        ).astype(type_mapping)\n",
    "\n",
    "    # lưu các đặc trưng\n",
    "    node_feature_df = node_feature_df[\n",
    "        transaction_specific_columns_of_transformed_data +\n",
    "        merchant_specific_columns_of_transformed_data +\n",
    "        user_specific_columns_of_transformed_data + [COL_FRAUD]]"
   ]
  },
  {
   "cell_type": "code",
   "execution_count": null,
   "id": "527f6ea8",
   "metadata": {
    "id": "527f6ea8"
   },
   "outputs": [],
   "source": [
    "# lưu label\n",
    "label_df = node_feature_df[[COL_FRAUD]]"
   ]
  },
  {
   "cell_type": "code",
   "execution_count": null,
   "id": "15e1cba8",
   "metadata": {
    "id": "15e1cba8"
   },
   "outputs": [],
   "source": [
    "# Xóa label khỏi vectỏr đặc trưng\n",
    "_ = node_feature_df.drop(columns=[COL_FRAUD], inplace=True)"
   ]
  },
  {
   "cell_type": "markdown",
   "id": "310d9500",
   "metadata": {
    "id": "310d9500"
   },
   "source": [
    "### Viết đặc trưng nút và label"
   ]
  },
  {
   "cell_type": "code",
   "execution_count": null,
   "id": "139bfd9f",
   "metadata": {
    "id": "139bfd9f"
   },
   "outputs": [],
   "source": [
    "# Viết nút label vào file csv\n",
    "out_path = os.path.join(tabformer_gnn, 'labels.csv')\n",
    "\n",
    "if not os.path.exists(os.path.dirname(out_path)):\n",
    "  os.makedirs(os.path.dirname(out_path))\n",
    "\n",
    "label_df.to_csv(out_path, header=False, index=False)\n",
    "# label_df.to_parquet(out_path, index=False, compression='gzip')"
   ]
  },
  {
   "cell_type": "code",
   "execution_count": null,
   "id": "b8fe801e",
   "metadata": {
    "id": "b8fe801e"
   },
   "outputs": [],
   "source": [
    "# Viết nút đặc trưng vào file csv\n",
    "out_path = os.path.join(tabformer_gnn, 'features.csv')\n",
    "\n",
    "if not os.path.exists(os.path.dirname(out_path)):\n",
    "  os.makedirs(os.path.dirname(out_path))\n",
    "node_feature_df[columns_of_transformed_data].to_csv(out_path, header=True, index=False)\n",
    "# node_feature_df.to_parquet(out_path, index=False, compression='gzip')"
   ]
  },
  {
   "cell_type": "code",
   "execution_count": null,
   "id": "fbe75d91",
   "metadata": {
    "id": "fbe75d91"
   },
   "outputs": [],
   "source": [
    "# Xóa dataFrames\n",
    "del data\n",
    "del node_feature_df\n",
    "del label_df\n",
    "\n",
    "if spread_features:\n",
    "    del merchant_specific_feature_df\n",
    "    del user_specific_feature_df\n",
    "else:\n",
    "    del empty_feature_df"
   ]
  },
  {
   "cell_type": "markdown",
   "id": "2c6afd9b",
   "metadata": {
    "id": "2c6afd9b"
   },
   "source": [
    "## Số các nút transaction trong training data"
   ]
  },
  {
   "cell_type": "code",
   "execution_count": null,
   "id": "2a5f5bd1",
   "metadata": {
    "colab": {
     "base_uri": "https://localhost:8080/"
    },
    "executionInfo": {
     "elapsed": 18,
     "status": "ok",
     "timestamp": 1747292659852,
     "user": {
      "displayName": "Khánh Hoàng Kim",
      "userId": "06897714357605364137"
     },
     "user_tz": -420
    },
    "id": "2a5f5bd1",
    "outputId": "b1be7989-827f-4e0e-f6ef-a93e1aed1901"
   },
   "outputs": [
    {
     "data": {
      "text/plain": [
       "np.int64(280988)"
      ]
     },
     "execution_count": 109,
     "metadata": {},
     "output_type": "execute_result"
    }
   ],
   "source": [
    "# Số các nút transaction cần cho training GNN\n",
    "nr_transaction_nodes = max_tx_id + 1\n",
    "nr_transaction_nodes"
   ]
  },
  {
   "cell_type": "markdown",
   "id": "275bfc8b",
   "metadata": {
    "id": "275bfc8b"
   },
   "source": [
    "### Số lượng card tối đa cho mỗi user"
   ]
  },
  {
   "cell_type": "code",
   "execution_count": null,
   "id": "867661d9",
   "metadata": {
    "colab": {
     "base_uri": "https://localhost:8080/"
    },
    "executionInfo": {
     "elapsed": 3,
     "status": "ok",
     "timestamp": 1747292659856,
     "user": {
      "displayName": "Khánh Hoàng Kim",
      "userId": "06897714357605364137"
     },
     "user_tz": -420
    },
    "id": "867661d9",
    "outputId": "dbac6a35-ad8b-45c0-a8e5-b60bc73da20b"
   },
   "outputs": [
    {
     "data": {
      "text/plain": [
       "9"
      ]
     },
     "execution_count": 110,
     "metadata": {},
     "output_type": "execute_result"
    }
   ],
   "source": [
    "# Số lượng card tối đa cho mỗi user, cần cho inference\n",
    "max_nr_cards_per_user"
   ]
  },
  {
   "cell_type": "markdown",
   "id": "cf5434a7",
   "metadata": {
    "id": "cf5434a7"
   },
   "source": [
    "### Lưu biến cho training and inference"
   ]
  },
  {
   "cell_type": "code",
   "execution_count": null,
   "id": "9d741c6c",
   "metadata": {
    "id": "9d741c6c"
   },
   "outputs": [],
   "source": [
    "variables_to_save = {\n",
    "    k: v for k, v in globals().items() if isinstance(v, (str, int)) and k.startswith('COL_')}"
   ]
  },
  {
   "cell_type": "code",
   "execution_count": null,
   "id": "86727cef",
   "metadata": {
    "id": "86727cef"
   },
   "outputs": [],
   "source": [
    "variables_to_save['NUM_TRANSACTION_NODES'] = int(nr_transaction_nodes)\n",
    "variables_to_save['MAX_NR_CARDS_PER_USER'] = int(max_nr_cards_per_user)"
   ]
  },
  {
   "cell_type": "code",
   "execution_count": null,
   "id": "6a59a5a7",
   "metadata": {
    "id": "6a59a5a7"
   },
   "outputs": [],
   "source": [
    "# Lưu dictionary thành file JSON\n",
    "\n",
    "with open(os.path.join(tabformer_base_path, 'variables.json'), 'w') as json_file:\n",
    "    json.dump(variables_to_save, json_file, indent=4)"
   ]
  },
  {
   "cell_type": "code",
   "execution_count": null,
   "id": "VrRzHgI3wjDx",
   "metadata": {
    "colab": {
     "base_uri": "https://localhost:8080/"
    },
    "executionInfo": {
     "elapsed": 29284,
     "status": "ok",
     "timestamp": 1747292709387,
     "user": {
      "displayName": "Khánh Hoàng Kim",
      "userId": "06897714357605364137"
     },
     "user_tz": -420
    },
    "id": "VrRzHgI3wjDx",
    "outputId": "ee6c21ec-02d9-4fe0-9408-ef83b5d93248"
   },
   "outputs": [
    {
     "name": "stdout",
     "output_type": "stream",
     "text": [
      "Mounted at /content/drive\n"
     ]
    }
   ],
   "source": [
    "from google.colab import drive\n",
    "drive.mount('/content/drive')"
   ]
  },
  {
   "cell_type": "code",
   "execution_count": null,
   "id": "BJ8e_BXUwroH",
   "metadata": {
    "id": "BJ8e_BXUwroH"
   },
   "outputs": [],
   "source": [
    "!cp -r /content/data /content/drive/MyDrive/VNPT/Fraud_Detection"
   ]
  }
 ],
 "metadata": {
  "accelerator": "GPU",
  "colab": {
   "gpuType": "T4",
   "provenance": []
  },
  "kernelspec": {
   "display_name": "ai_credit_fraud_workflow",
   "language": "python",
   "name": "python3"
  },
  "language_info": {
   "codemirror_mode": {
    "name": "ipython",
    "version": 3
   },
   "file_extension": ".py",
   "mimetype": "text/x-python",
   "name": "python",
   "nbconvert_exporter": "python",
   "pygments_lexer": "ipython3",
   "version": "3.11.11"
  }
 },
 "nbformat": 4,
 "nbformat_minor": 5
}
