{
 "cells": [
  {
   "cell_type": "markdown",
   "id": "8d59fe53",
   "metadata": {},
   "source": [
    "- Load đồ thị không đồng nhất và huấn luyện model.\n",
    "- CPU được khuyến nghị để đào tạo khi thiết bị cho phép. Nếu bạn cần sử dụng GPU, vui lòng cài đặt DGL dựa trên GPU riêng."
   ]
  },
  {
   "cell_type": "code",
   "execution_count": 1,
   "id": "a291b421",
   "metadata": {},
   "outputs": [
    {
     "data": {
      "text/plain": [
       "'d:\\\\hkk1907\\\\VNPTAI\\\\Fraud_Detection\\\\GNNs_based_on_DGL'"
      ]
     },
     "execution_count": 1,
     "metadata": {},
     "output_type": "execute_result"
    }
   ],
   "source": [
    "import os\n",
    "cur_path = \"./\"\n",
    "os.chdir(cur_path)\n",
    "%pwd"
   ]
  },
  {
   "cell_type": "markdown",
   "id": "2230d2b7",
   "metadata": {},
   "source": [
    "# Training (All in one)"
   ]
  },
  {
   "cell_type": "code",
   "execution_count": 2,
   "id": "48cc89ad",
   "metadata": {},
   "outputs": [
    {
     "name": "stdout",
     "output_type": "stream",
     "text": [
      "DLG version: 2.2.1\n",
      "numpy version:1.26.4 PyTorch version:2.1.0+cu118 DGL version:2.2.1\n",
      "Namespace(training_dir='./data', model_dir='./model/2025_05_16_00_44_11', output_dir='./output', nodes='features.csv', target_ntype='TransactionID', edges='relation*', labels='tags.csv', new_accounts='test.csv', compute_metrics=True, threshold=0, num_gpus=0, optimizer='adam', lr=0.01, n_epochs=1000, n_hidden=16, n_layers=3, weight_decay=0.0005, dropout=0.2, embedding_size=360)\n",
      "Getting relation graphs from the following edge lists : ['relation_addr1_edgelist.csv', 'relation_addr2_edgelist.csv', 'relation_card1_edgelist.csv', 'relation_card2_edgelist.csv', 'relation_card3_edgelist.csv', 'relation_card4_edgelist.csv', 'relation_card5_edgelist.csv', 'relation_card6_edgelist.csv', 'relation_DeviceInfo_edgelist.csv', 'relation_DeviceType_edgelist.csv', 'relation_id_01_edgelist.csv', 'relation_id_02_edgelist.csv', 'relation_id_03_edgelist.csv', 'relation_id_04_edgelist.csv', 'relation_id_05_edgelist.csv', 'relation_id_06_edgelist.csv', 'relation_id_07_edgelist.csv', 'relation_id_08_edgelist.csv', 'relation_id_09_edgelist.csv', 'relation_id_10_edgelist.csv', 'relation_id_11_edgelist.csv', 'relation_id_12_edgelist.csv', 'relation_id_13_edgelist.csv', 'relation_id_14_edgelist.csv', 'relation_id_15_edgelist.csv', 'relation_id_16_edgelist.csv', 'relation_id_17_edgelist.csv', 'relation_id_18_edgelist.csv', 'relation_id_19_edgelist.csv', 'relation_id_20_edgelist.csv', 'relation_id_21_edgelist.csv', 'relation_id_22_edgelist.csv', 'relation_id_23_edgelist.csv', 'relation_id_24_edgelist.csv', 'relation_id_25_edgelist.csv', 'relation_id_26_edgelist.csv', 'relation_id_27_edgelist.csv', 'relation_id_28_edgelist.csv', 'relation_id_29_edgelist.csv', 'relation_id_30_edgelist.csv', 'relation_id_31_edgelist.csv', 'relation_id_32_edgelist.csv', 'relation_id_33_edgelist.csv', 'relation_id_34_edgelist.csv', 'relation_id_35_edgelist.csv', 'relation_id_36_edgelist.csv', 'relation_id_37_edgelist.csv', 'relation_id_38_edgelist.csv', 'relation_ProductCD_edgelist.csv', 'relation_P_emaildomain_edgelist.csv', 'relation_R_emaildomain_edgelist.csv', 'relation_TransactionID_edgelist.csv'] \n",
      "Read edges for target<addr1> from edgelist: ./data\\relation_addr1_edgelist.csv\n",
      "Read edges for target<addr2> from edgelist: ./data\\relation_addr2_edgelist.csv\n",
      "Read edges for target<card1> from edgelist: ./data\\relation_card1_edgelist.csv\n",
      "Read edges for target<card2> from edgelist: ./data\\relation_card2_edgelist.csv\n",
      "Read edges for target<card3> from edgelist: ./data\\relation_card3_edgelist.csv\n",
      "Read edges for target<card4> from edgelist: ./data\\relation_card4_edgelist.csv\n",
      "Read edges for target<card5> from edgelist: ./data\\relation_card5_edgelist.csv\n",
      "Read edges for target<card6> from edgelist: ./data\\relation_card6_edgelist.csv\n",
      "Read edges for target<DeviceInfo> from edgelist: ./data\\relation_DeviceInfo_edgelist.csv\n",
      "Read edges for target<DeviceType> from edgelist: ./data\\relation_DeviceType_edgelist.csv\n",
      "Read edges for target<id_01> from edgelist: ./data\\relation_id_01_edgelist.csv\n",
      "Read edges for target<id_02> from edgelist: ./data\\relation_id_02_edgelist.csv\n",
      "Read edges for target<id_03> from edgelist: ./data\\relation_id_03_edgelist.csv\n",
      "Read edges for target<id_04> from edgelist: ./data\\relation_id_04_edgelist.csv\n",
      "Read edges for target<id_05> from edgelist: ./data\\relation_id_05_edgelist.csv\n",
      "Read edges for target<id_06> from edgelist: ./data\\relation_id_06_edgelist.csv\n",
      "Read edges for target<id_07> from edgelist: ./data\\relation_id_07_edgelist.csv\n",
      "Read edges for target<id_08> from edgelist: ./data\\relation_id_08_edgelist.csv\n",
      "Read edges for target<id_09> from edgelist: ./data\\relation_id_09_edgelist.csv\n",
      "Read edges for target<id_10> from edgelist: ./data\\relation_id_10_edgelist.csv\n",
      "Read edges for target<id_11> from edgelist: ./data\\relation_id_11_edgelist.csv\n",
      "Read edges for target<id_12> from edgelist: ./data\\relation_id_12_edgelist.csv\n",
      "Read edges for target<id_13> from edgelist: ./data\\relation_id_13_edgelist.csv\n",
      "Read edges for target<id_14> from edgelist: ./data\\relation_id_14_edgelist.csv\n",
      "Read edges for target<id_15> from edgelist: ./data\\relation_id_15_edgelist.csv\n",
      "Read edges for target<id_16> from edgelist: ./data\\relation_id_16_edgelist.csv\n",
      "Read edges for target<id_17> from edgelist: ./data\\relation_id_17_edgelist.csv\n",
      "Read edges for target<id_18> from edgelist: ./data\\relation_id_18_edgelist.csv\n",
      "Read edges for target<id_19> from edgelist: ./data\\relation_id_19_edgelist.csv\n",
      "Read edges for target<id_20> from edgelist: ./data\\relation_id_20_edgelist.csv\n",
      "Read edges for target<id_21> from edgelist: ./data\\relation_id_21_edgelist.csv\n",
      "Read edges for target<id_22> from edgelist: ./data\\relation_id_22_edgelist.csv\n",
      "Read edges for target<id_23> from edgelist: ./data\\relation_id_23_edgelist.csv\n",
      "Read edges for target<id_24> from edgelist: ./data\\relation_id_24_edgelist.csv\n",
      "Read edges for target<id_25> from edgelist: ./data\\relation_id_25_edgelist.csv\n",
      "Read edges for target<id_26> from edgelist: ./data\\relation_id_26_edgelist.csv\n",
      "Read edges for target<id_27> from edgelist: ./data\\relation_id_27_edgelist.csv\n",
      "Read edges for target<id_28> from edgelist: ./data\\relation_id_28_edgelist.csv\n",
      "Read edges for target<id_29> from edgelist: ./data\\relation_id_29_edgelist.csv\n",
      "Read edges for target<id_30> from edgelist: ./data\\relation_id_30_edgelist.csv\n",
      "Read edges for target<id_31> from edgelist: ./data\\relation_id_31_edgelist.csv\n",
      "Read edges for target<id_32> from edgelist: ./data\\relation_id_32_edgelist.csv\n",
      "Read edges for target<id_33> from edgelist: ./data\\relation_id_33_edgelist.csv\n",
      "Read edges for target<id_34> from edgelist: ./data\\relation_id_34_edgelist.csv\n",
      "Read edges for target<id_35> from edgelist: ./data\\relation_id_35_edgelist.csv\n",
      "Read edges for target<id_36> from edgelist: ./data\\relation_id_36_edgelist.csv\n",
      "Read edges for target<id_37> from edgelist: ./data\\relation_id_37_edgelist.csv\n",
      "Read edges for target<id_38> from edgelist: ./data\\relation_id_38_edgelist.csv\n",
      "Read edges for target<ProductCD> from edgelist: ./data\\relation_ProductCD_edgelist.csv\n",
      "Read edges for target<P_emaildomain> from edgelist: ./data\\relation_P_emaildomain_edgelist.csv\n",
      "Read edges for target<R_emaildomain> from edgelist: ./data\\relation_R_emaildomain_edgelist.csv\n",
      "Will add self loop for target later......\n"
     ]
    },
    {
     "name": "stderr",
     "output_type": "stream",
     "text": [
      "Traceback (most recent call last):\n",
      "  File \"d:\\hkk1907\\VNPTAI\\Fraud_Detection\\GNNs_based_on_DGL\\train.py\", line 206, in <module>\n",
      "    g, features, target_id_to_node, id_to_node = construct_graph(args.training_dir,\n",
      "                                                 ^^^^^^^^^^^^^^^^^^^^^^^^^^^^^^^^^^\n",
      "  File \"d:\\hkk1907\\VNPTAI\\Fraud_Detection\\GNNs_based_on_DGL\\gnn\\graph_utils.py\", line 262, in construct_graph\n",
      "    features, new_nodes = get_features(id_to_node[target_node_type], os.path.join(training_dir, nodes))\n",
      "                          ^^^^^^^^^^^^^^^^^^^^^^^^^^^^^^^^^^^^^^^^^^^^^^^^^^^^^^^^^^^^^^^^^^^^^^^^^^^^^\n",
      "  File \"d:\\hkk1907\\VNPTAI\\Fraud_Detection\\GNNs_based_on_DGL\\gnn\\graph_utils.py\", line 31, in get_features\n",
      "    feats = np.array(list(map(float, node_feats[1:])))\n",
      "                     ^^^^^^^^^^^^^^^^^^^^^^^^^^^^^^^^\n",
      "ValueError: could not convert string to float: 'False'\n"
     ]
    }
   ],
   "source": [
    "!python train.py --n-epochs 1000"
   ]
  }
 ],
 "metadata": {
  "kernelspec": {
   "display_name": "gnn_based_on_dgl",
   "language": "python",
   "name": "python3"
  },
  "language_info": {
   "codemirror_mode": {
    "name": "ipython",
    "version": 3
   },
   "file_extension": ".py",
   "mimetype": "text/x-python",
   "name": "python",
   "nbconvert_exporter": "python",
   "pygments_lexer": "ipython3",
   "version": "3.11.11"
  }
 },
 "nbformat": 4,
 "nbformat_minor": 5
}
